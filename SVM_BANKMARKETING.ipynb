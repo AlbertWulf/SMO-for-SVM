{
 "metadata": {
  "language_info": {
   "codemirror_mode": {
    "name": "ipython",
    "version": 3
   },
   "file_extension": ".py",
   "mimetype": "text/x-python",
   "name": "python",
   "nbconvert_exporter": "python",
   "pygments_lexer": "ipython3",
   "version": "3.6.6-final"
  },
  "orig_nbformat": 2,
  "kernelspec": {
   "name": "python3",
   "display_name": "Python 3.6.6 64-bit (conda)",
   "metadata": {
    "interpreter": {
     "hash": "c626c79af88c994e95f0b934a6c724e19485f99633dc59b6f2feb25f2d050503"
    }
   }
  }
 },
 "nbformat": 4,
 "nbformat_minor": 2,
 "cells": [
  {
   "cell_type": "code",
   "execution_count": 14,
   "metadata": {},
   "outputs": [
    {
     "output_type": "stream",
     "name": "stdout",
     "text": [
      "0\n"
     ]
    }
   ],
   "source": [
    "import pandas as pd\n",
    "import numpy as np\n",
    "import matplotlib.pyplot as plt\n",
    "import seaborn as sns\n",
    "import time\n",
    "from tqdm import tqdm, trange\n",
    "import operator\n",
    "import random\n",
    "print(random.randint(0,10))"
   ]
  },
  {
   "cell_type": "code",
   "execution_count": 15,
   "metadata": {},
   "outputs": [
    {
     "output_type": "execute_result",
     "data": {
      "text/plain": [
       "array(['no', 'yes', 'unknown'], dtype=object)"
      ]
     },
     "metadata": {},
     "execution_count": 15
    }
   ],
   "source": [
    "bank = pd.read_csv('data/bank-additional-full.csv',sep=',')\n",
    "bank['loan'].unique()"
   ]
  },
  {
   "cell_type": "code",
   "execution_count": 4,
   "metadata": {},
   "outputs": [
    {
     "output_type": "stream",
     "name": "stdout",
     "text": [
      "['housemaid' 'services' 'admin.' 'blue-collar' 'technician' 'retired'\n 'management' 'unemployed' 'self-employed' 'unknown' 'entrepreneur'\n 'student']\n"
     ]
    }
   ],
   "source": [
    "bank_client = bank.iloc[:,0:7]\n",
    "print(bank_client['job'].unique())"
   ]
  },
  {
   "cell_type": "code",
   "execution_count": 5,
   "metadata": {},
   "outputs": [
    {
     "output_type": "display_data",
     "data": {
      "text/plain": "<Figure size 1440x576 with 1 Axes>",
      "image/svg+xml": "<?xml version=\"1.0\" encoding=\"utf-8\" standalone=\"no\"?>\r\n<!DOCTYPE svg PUBLIC \"-//W3C//DTD SVG 1.1//EN\"\r\n  \"http://www.w3.org/Graphics/SVG/1.1/DTD/svg11.dtd\">\r\n<!-- Created with matplotlib (http://matplotlib.org/) -->\r\n<svg height=\"501.872969pt\" version=\"1.1\" viewBox=\"0 0 1184.867188 501.872969\" width=\"1184.867188pt\" xmlns=\"http://www.w3.org/2000/svg\" xmlns:xlink=\"http://www.w3.org/1999/xlink\">\r\n <defs>\r\n  <style type=\"text/css\">\r\n*{stroke-linecap:butt;stroke-linejoin:round;}\r\n  </style>\r\n </defs>\r\n <g id=\"figure_1\">\r\n  <g id=\"patch_1\">\r\n   <path d=\"M 0 501.872969 \r\nL 1184.867188 501.872969 \r\nL 1184.867188 0 \r\nL 0 0 \r\nz\r\n\" style=\"fill:none;\"/>\r\n  </g>\r\n  <g id=\"axes_1\">\r\n   <g id=\"patch_2\">\r\n    <path d=\"M 58.167188 459.477656 \r\nL 1174.167187 459.477656 \r\nL 1174.167187 24.597656 \r\nL 58.167188 24.597656 \r\nz\r\n\" style=\"fill:#ffffff;\"/>\r\n   </g>\r\n   <g id=\"patch_3\">\r\n    <path clip-path=\"url(#p2c23ebdbdd)\" d=\"M 59.597957 459.477656 \r\nL 71.044111 459.477656 \r\nL 71.044111 458.414042 \r\nL 59.597957 458.414042 \r\nz\r\n\" style=\"fill:#ea96a3;\"/>\r\n   </g>\r\n   <g id=\"patch_4\">\r\n    <path clip-path=\"url(#p2c23ebdbdd)\" d=\"M 73.905649 459.477656 \r\nL 85.351803 459.477656 \r\nL 85.351803 453.521416 \r\nL 73.905649 453.521416 \r\nz\r\n\" style=\"fill:#ea979d;\"/>\r\n   </g>\r\n   <g id=\"patch_5\">\r\n    <path clip-path=\"url(#p2c23ebdbdd)\" d=\"M 88.213341 459.477656 \r\nL 99.659495 459.477656 \r\nL 99.659495 450.543296 \r\nL 88.213341 450.543296 \r\nz\r\n\" style=\"fill:#ea9796;\"/>\r\n   </g>\r\n   <g id=\"patch_6\">\r\n    <path clip-path=\"url(#p2c23ebdbdd)\" d=\"M 102.521034 459.477656 \r\nL 113.967188 459.477656 \r\nL 113.967188 445.65067 \r\nL 102.521034 445.65067 \r\nz\r\n\" style=\"fill:#e9978d;\"/>\r\n   </g>\r\n   <g id=\"patch_7\">\r\n    <path clip-path=\"url(#p2c23ebdbdd)\" d=\"M 116.828726 459.477656 \r\nL 128.27488 459.477656 \r\nL 128.27488 437.779923 \r\nL 116.828726 437.779923 \r\nz\r\n\" style=\"fill:#e79682;\"/>\r\n   </g>\r\n   <g id=\"patch_8\">\r\n    <path clip-path=\"url(#p2c23ebdbdd)\" d=\"M 131.136418 459.477656 \r\nL 142.582572 459.477656 \r\nL 142.582572 430.334623 \r\nL 131.136418 430.334623 \r\nz\r\n\" style=\"fill:#e59574;\"/>\r\n   </g>\r\n   <g id=\"patch_9\">\r\n    <path clip-path=\"url(#p2c23ebdbdd)\" d=\"M 145.444111 459.477656 \r\nL 156.890264 459.477656 \r\nL 156.890264 411.402288 \r\nL 145.444111 411.402288 \r\nz\r\n\" style=\"fill:#e39361;\"/>\r\n   </g>\r\n   <g id=\"patch_10\">\r\n    <path clip-path=\"url(#p2c23ebdbdd)\" d=\"M 159.751803 459.477656 \r\nL 171.197957 459.477656 \r\nL 171.197957 360.986967 \r\nL 159.751803 360.986967 \r\nz\r\n\" style=\"fill:#dd924f;\"/>\r\n   </g>\r\n   <g id=\"patch_11\">\r\n    <path clip-path=\"url(#p2c23ebdbdd)\" d=\"M 174.059495 459.477656 \r\nL 185.505649 459.477656 \r\nL 185.505649 332.26938 \r\nL 174.059495 332.26938 \r\nz\r\n\" style=\"fill:#d6944d;\"/>\r\n   </g>\r\n   <g id=\"patch_12\">\r\n    <path clip-path=\"url(#p2c23ebdbdd)\" d=\"M 188.367188 459.477656 \r\nL 199.813341 459.477656 \r\nL 199.813341 310.997093 \r\nL 188.367188 310.997093 \r\nz\r\n\" style=\"fill:#cf964c;\"/>\r\n   </g>\r\n   <g id=\"patch_13\">\r\n    <path clip-path=\"url(#p2c23ebdbdd)\" d=\"M 202.67488 459.477656 \r\nL 214.121034 459.477656 \r\nL 214.121034 278.450494 \r\nL 202.67488 278.450494 \r\nz\r\n\" style=\"fill:#c9984c;\"/>\r\n   </g>\r\n   <g id=\"patch_14\">\r\n    <path clip-path=\"url(#p2c23ebdbdd)\" d=\"M 216.982572 459.477656 \r\nL 228.428726 459.477656 \r\nL 228.428726 246.542063 \r\nL 216.982572 246.542063 \r\nz\r\n\" style=\"fill:#c3994b;\"/>\r\n   </g>\r\n   <g id=\"patch_15\">\r\n    <path clip-path=\"url(#p2c23ebdbdd)\" d=\"M 231.290264 459.477656 \r\nL 242.736418 459.477656 \r\nL 242.736418 150.391326 \r\nL 231.290264 150.391326 \r\nz\r\n\" style=\"fill:#be9b4a;\"/>\r\n   </g>\r\n   <g id=\"patch_16\">\r\n    <path clip-path=\"url(#p2c23ebdbdd)\" d=\"M 245.597957 459.477656 \r\nL 257.044111 459.477656 \r\nL 257.044111 94.870656 \r\nL 245.597957 94.870656 \r\nz\r\n\" style=\"fill:#b89c49;\"/>\r\n   </g>\r\n   <g id=\"patch_17\">\r\n    <path clip-path=\"url(#p2c23ebdbdd)\" d=\"M 259.905649 459.477656 \r\nL 271.351803 459.477656 \r\nL 271.351803 45.306228 \r\nL 259.905649 45.306228 \r\nz\r\n\" style=\"fill:#b39d48;\"/>\r\n   </g>\r\n   <g id=\"patch_18\">\r\n    <path clip-path=\"url(#p2c23ebdbdd)\" d=\"M 274.213341 459.477656 \r\nL 285.659495 459.477656 \r\nL 285.659495 66.791238 \r\nL 274.213341 66.791238 \r\nz\r\n\" style=\"fill:#ae9d48;\"/>\r\n   </g>\r\n   <g id=\"patch_19\">\r\n    <path clip-path=\"url(#p2c23ebdbdd)\" d=\"M 288.521034 459.477656 \r\nL 299.967188 459.477656 \r\nL 299.967188 69.556635 \r\nL 288.521034 69.556635 \r\nz\r\n\" style=\"fill:#a99e47;\"/>\r\n   </g>\r\n   <g id=\"patch_20\">\r\n    <path clip-path=\"url(#p2c23ebdbdd)\" d=\"M 302.828726 459.477656 \r\nL 314.27488 459.477656 \r\nL 314.27488 88.276247 \r\nL 302.828726 88.276247 \r\nz\r\n\" style=\"fill:#a49f46;\"/>\r\n   </g>\r\n   <g id=\"patch_21\">\r\n    <path clip-path=\"url(#p2c23ebdbdd)\" d=\"M 317.136418 459.477656 \r\nL 328.582572 459.477656 \r\nL 328.582572 85.298127 \r\nL 317.136418 85.298127 \r\nz\r\n\" style=\"fill:#9fa045;\"/>\r\n   </g>\r\n   <g id=\"patch_22\">\r\n    <path clip-path=\"url(#p2c23ebdbdd)\" d=\"M 331.444111 459.477656 \r\nL 342.890264 459.477656 \r\nL 342.890264 80.830947 \r\nL 331.444111 80.830947 \r\nz\r\n\" style=\"fill:#9aa146;\"/>\r\n   </g>\r\n   <g id=\"patch_23\">\r\n    <path clip-path=\"url(#p2c23ebdbdd)\" d=\"M 345.751803 459.477656 \r\nL 357.197957 459.477656 \r\nL 357.197957 145.711422 \r\nL 345.751803 145.711422 \r\nz\r\n\" style=\"fill:#95a346;\"/>\r\n   </g>\r\n   <g id=\"patch_24\">\r\n    <path clip-path=\"url(#p2c23ebdbdd)\" d=\"M 360.059495 459.477656 \r\nL 371.505649 459.477656 \r\nL 371.505649 160.176578 \r\nL 360.059495 160.176578 \r\nz\r\n\" style=\"fill:#90a546;\"/>\r\n   </g>\r\n   <g id=\"patch_25\">\r\n    <path clip-path=\"url(#p2c23ebdbdd)\" d=\"M 374.367188 459.477656 \r\nL 385.813341 459.477656 \r\nL 385.813341 154.858506 \r\nL 374.367188 154.858506 \r\nz\r\n\" style=\"fill:#8aa646;\"/>\r\n   </g>\r\n   <g id=\"patch_26\">\r\n    <path clip-path=\"url(#p2c23ebdbdd)\" d=\"M 388.67488 459.477656 \r\nL 400.121034 459.477656 \r\nL 400.121034 212.506404 \r\nL 388.67488 212.506404 \r\nz\r\n\" style=\"fill:#82a846;\"/>\r\n   </g>\r\n   <g id=\"patch_27\">\r\n    <path clip-path=\"url(#p2c23ebdbdd)\" d=\"M 402.982572 459.477656 \r\nL 414.428726 459.477656 \r\nL 414.428726 187.617828 \r\nL 402.982572 187.617828 \r\nz\r\n\" style=\"fill:#7aaa47;\"/>\r\n   </g>\r\n   <g id=\"patch_28\">\r\n    <path clip-path=\"url(#p2c23ebdbdd)\" d=\"M 417.290264 459.477656 \r\nL 428.736418 459.477656 \r\nL 428.736418 216.548138 \r\nL 417.290264 216.548138 \r\nz\r\n\" style=\"fill:#6fac47;\"/>\r\n   </g>\r\n   <g id=\"patch_29\">\r\n    <path clip-path=\"url(#p2c23ebdbdd)\" d=\"M 431.597957 459.477656 \r\nL 443.044111 459.477656 \r\nL 443.044111 235.055028 \r\nL 431.597957 235.055028 \r\nz\r\n\" style=\"fill:#60ae47;\"/>\r\n   </g>\r\n   <g id=\"patch_30\">\r\n    <path clip-path=\"url(#p2c23ebdbdd)\" d=\"M 445.905649 459.477656 \r\nL 457.351803 459.477656 \r\nL 457.351803 244.414834 \r\nL 445.905649 244.414834 \r\nz\r\n\" style=\"fill:#47b149;\"/>\r\n   </g>\r\n   <g id=\"patch_31\">\r\n    <path clip-path=\"url(#p2c23ebdbdd)\" d=\"M 460.213341 459.477656 \r\nL 471.659495 459.477656 \r\nL 471.659495 224.84433 \r\nL 460.213341 224.84433 \r\nz\r\n\" style=\"fill:#48b061;\"/>\r\n   </g>\r\n   <g id=\"patch_32\">\r\n    <path clip-path=\"url(#p2c23ebdbdd)\" d=\"M 474.521034 459.477656 \r\nL 485.967188 459.477656 \r\nL 485.967188 240.3731 \r\nL 474.521034 240.3731 \r\nz\r\n\" style=\"fill:#48af6f;\"/>\r\n   </g>\r\n   <g id=\"patch_33\">\r\n    <path clip-path=\"url(#p2c23ebdbdd)\" d=\"M 488.828726 459.477656 \r\nL 500.27488 459.477656 \r\nL 500.27488 262.070833 \r\nL 488.828726 262.070833 \r\nz\r\n\" style=\"fill:#49af79;\"/>\r\n   </g>\r\n   <g id=\"patch_34\">\r\n    <path clip-path=\"url(#p2c23ebdbdd)\" d=\"M 503.136418 459.477656 \r\nL 514.582572 459.477656 \r\nL 514.582572 251.221966 \r\nL 503.136418 251.221966 \r\nz\r\n\" style=\"fill:#49ae81;\"/>\r\n   </g>\r\n   <g id=\"patch_35\">\r\n    <path clip-path=\"url(#p2c23ebdbdd)\" d=\"M 517.444111 459.477656 \r\nL 528.890264 459.477656 \r\nL 528.890264 281.003168 \r\nL 517.444111 281.003168 \r\nz\r\n\" style=\"fill:#49ae88;\"/>\r\n   </g>\r\n   <g id=\"patch_36\">\r\n    <path clip-path=\"url(#p2c23ebdbdd)\" d=\"M 531.751803 459.477656 \r\nL 543.197957 459.477656 \r\nL 543.197957 273.345145 \r\nL 531.751803 273.345145 \r\nz\r\n\" style=\"fill:#4aad8d;\"/>\r\n   </g>\r\n   <g id=\"patch_37\">\r\n    <path clip-path=\"url(#p2c23ebdbdd)\" d=\"M 546.059495 459.477656 \r\nL 557.505649 459.477656 \r\nL 557.505649 299.084612 \r\nL 546.059495 299.084612 \r\nz\r\n\" style=\"fill:#4aad92;\"/>\r\n   </g>\r\n   <g id=\"patch_38\">\r\n    <path clip-path=\"url(#p2c23ebdbdd)\" d=\"M 560.367188 459.477656 \r\nL 571.813341 459.477656 \r\nL 571.813341 293.76654 \r\nL 560.367188 293.76654 \r\nz\r\n\" style=\"fill:#4aad96;\"/>\r\n   </g>\r\n   <g id=\"patch_39\">\r\n    <path clip-path=\"url(#p2c23ebdbdd)\" d=\"M 574.67488 459.477656 \r\nL 586.121034 459.477656 \r\nL 586.121034 303.551792 \r\nL 574.67488 303.551792 \r\nz\r\n\" style=\"fill:#4aac9a;\"/>\r\n   </g>\r\n   <g id=\"patch_40\">\r\n    <path clip-path=\"url(#p2c23ebdbdd)\" d=\"M 588.982572 459.477656 \r\nL 600.428726 459.477656 \r\nL 600.428726 313.975213 \r\nL 588.982572 313.975213 \r\nz\r\n\" style=\"fill:#4bac9d;\"/>\r\n   </g>\r\n   <g id=\"patch_41\">\r\n    <path clip-path=\"url(#p2c23ebdbdd)\" d=\"M 603.290264 459.477656 \r\nL 614.736418 459.477656 \r\nL 614.736418 321.633236 \r\nL 603.290264 321.633236 \r\nz\r\n\" style=\"fill:#4baca1;\"/>\r\n   </g>\r\n   <g id=\"patch_42\">\r\n    <path clip-path=\"url(#p2c23ebdbdd)\" d=\"M 617.597957 459.477656 \r\nL 629.044111 459.477656 \r\nL 629.044111 309.720756 \r\nL 617.597957 309.720756 \r\nz\r\n\" style=\"fill:#4baba4;\"/>\r\n   </g>\r\n   <g id=\"patch_43\">\r\n    <path clip-path=\"url(#p2c23ebdbdd)\" d=\"M 631.905649 459.477656 \r\nL 643.351803 459.477656 \r\nL 643.351803 322.058682 \r\nL 631.905649 322.058682 \r\nz\r\n\" style=\"fill:#4baba7;\"/>\r\n   </g>\r\n   <g id=\"patch_44\">\r\n    <path clip-path=\"url(#p2c23ebdbdd)\" d=\"M 646.213341 459.477656 \r\nL 657.659495 459.477656 \r\nL 657.659495 336.949283 \r\nL 646.213341 336.949283 \r\nz\r\n\" style=\"fill:#4baaab;\"/>\r\n   </g>\r\n   <g id=\"patch_45\">\r\n    <path clip-path=\"url(#p2c23ebdbdd)\" d=\"M 660.521034 459.477656 \r\nL 671.967187 459.477656 \r\nL 671.967187 360.986967 \r\nL 660.521034 360.986967 \r\nz\r\n\" style=\"fill:#4cabae;\"/>\r\n   </g>\r\n   <g id=\"patch_46\">\r\n    <path clip-path=\"url(#p2c23ebdbdd)\" d=\"M 674.828726 459.477656 \r\nL 686.27488 459.477656 \r\nL 686.27488 399.277084 \r\nL 674.828726 399.277084 \r\nz\r\n\" style=\"fill:#4dabb2;\"/>\r\n   </g>\r\n   <g id=\"patch_47\">\r\n    <path clip-path=\"url(#p2c23ebdbdd)\" d=\"M 689.136418 459.477656 \r\nL 700.582572 459.477656 \r\nL 700.582572 443.948887 \r\nL 689.136418 443.948887 \r\nz\r\n\" style=\"fill:#4eabb6;\"/>\r\n   </g>\r\n   <g id=\"patch_48\">\r\n    <path clip-path=\"url(#p2c23ebdbdd)\" d=\"M 703.444111 459.477656 \r\nL 714.890264 459.477656 \r\nL 714.890264 446.288838 \r\nL 703.444111 446.288838 \r\nz\r\n\" style=\"fill:#4fabba;\"/>\r\n   </g>\r\n   <g id=\"patch_49\">\r\n    <path clip-path=\"url(#p2c23ebdbdd)\" d=\"M 717.751803 459.477656 \r\nL 729.197957 459.477656 \r\nL 729.197957 447.777898 \r\nL 717.751803 447.777898 \r\nz\r\n\" style=\"fill:#50acbf;\"/>\r\n   </g>\r\n   <g id=\"patch_50\">\r\n    <path clip-path=\"url(#p2c23ebdbdd)\" d=\"M 732.059495 459.477656 \r\nL 743.505649 459.477656 \r\nL 743.505649 447.352453 \r\nL 732.059495 447.352453 \r\nz\r\n\" style=\"fill:#51acc4;\"/>\r\n   </g>\r\n   <g id=\"patch_51\">\r\n    <path clip-path=\"url(#p2c23ebdbdd)\" d=\"M 746.367188 459.477656 \r\nL 757.813341 459.477656 \r\nL 757.813341 450.11785 \r\nL 746.367188 450.11785 \r\nz\r\n\" style=\"fill:#52acc9;\"/>\r\n   </g>\r\n   <g id=\"patch_52\">\r\n    <path clip-path=\"url(#p2c23ebdbdd)\" d=\"M 760.67488 459.477656 \r\nL 772.121034 459.477656 \r\nL 772.121034 447.352453 \r\nL 760.67488 447.352453 \r\nz\r\n\" style=\"fill:#53accf;\"/>\r\n   </g>\r\n   <g id=\"patch_53\">\r\n    <path clip-path=\"url(#p2c23ebdbdd)\" d=\"M 774.982572 459.477656 \r\nL 786.428726 459.477656 \r\nL 786.428726 453.946862 \r\nL 774.982572 453.946862 \r\nz\r\n\" style=\"fill:#55acd6;\"/>\r\n   </g>\r\n   <g id=\"patch_54\">\r\n    <path clip-path=\"url(#p2c23ebdbdd)\" d=\"M 789.290264 459.477656 \r\nL 800.736418 459.477656 \r\nL 800.736418 452.457802 \r\nL 789.290264 452.457802 \r\nz\r\n\" style=\"fill:#57adde;\"/>\r\n   </g>\r\n   <g id=\"patch_55\">\r\n    <path clip-path=\"url(#p2c23ebdbdd)\" d=\"M 803.597957 459.477656 \r\nL 815.044111 459.477656 \r\nL 815.044111 452.245079 \r\nL 803.597957 452.245079 \r\nz\r\n\" style=\"fill:#6daee2;\"/>\r\n   </g>\r\n   <g id=\"patch_56\">\r\n    <path clip-path=\"url(#p2c23ebdbdd)\" d=\"M 817.905649 459.477656 \r\nL 829.351803 459.477656 \r\nL 829.351803 449.479681 \r\nL 817.905649 449.479681 \r\nz\r\n\" style=\"fill:#7faee5;\"/>\r\n   </g>\r\n   <g id=\"patch_57\">\r\n    <path clip-path=\"url(#p2c23ebdbdd)\" d=\"M 832.213341 459.477656 \r\nL 843.659495 459.477656 \r\nL 843.659495 448.203344 \r\nL 832.213341 448.203344 \r\nz\r\n\" style=\"fill:#8daee7;\"/>\r\n   </g>\r\n   <g id=\"patch_58\">\r\n    <path clip-path=\"url(#p2c23ebdbdd)\" d=\"M 846.521034 459.477656 \r\nL 857.967187 459.477656 \r\nL 857.967187 452.245079 \r\nL 846.521034 452.245079 \r\nz\r\n\" style=\"fill:#98ade9;\"/>\r\n   </g>\r\n   <g id=\"patch_59\">\r\n    <path clip-path=\"url(#p2c23ebdbdd)\" d=\"M 860.828726 459.477656 \r\nL 872.27488 459.477656 \r\nL 872.27488 452.245079 \r\nL 860.828726 452.245079 \r\nz\r\n\" style=\"fill:#a3adea;\"/>\r\n   </g>\r\n   <g id=\"patch_60\">\r\n    <path clip-path=\"url(#p2c23ebdbdd)\" d=\"M 875.136418 459.477656 \r\nL 886.582572 459.477656 \r\nL 886.582572 452.670524 \r\nL 875.136418 452.670524 \r\nz\r\n\" style=\"fill:#acaceb;\"/>\r\n   </g>\r\n   <g id=\"patch_61\">\r\n    <path clip-path=\"url(#p2c23ebdbdd)\" d=\"M 889.444111 459.477656 \r\nL 900.890264 459.477656 \r\nL 900.890264 454.372307 \r\nL 889.444111 454.372307 \r\nz\r\n\" style=\"fill:#b3a9eb;\"/>\r\n   </g>\r\n   <g id=\"patch_62\">\r\n    <path clip-path=\"url(#p2c23ebdbdd)\" d=\"M 903.751803 459.477656 \r\nL 915.197957 459.477656 \r\nL 915.197957 452.245079 \r\nL 903.751803 452.245079 \r\nz\r\n\" style=\"fill:#b9a6eb;\"/>\r\n   </g>\r\n   <g id=\"patch_63\">\r\n    <path clip-path=\"url(#p2c23ebdbdd)\" d=\"M 918.059495 459.477656 \r\nL 929.505649 459.477656 \r\nL 929.505649 455.223199 \r\nL 918.059495 455.223199 \r\nz\r\n\" style=\"fill:#bfa3ea;\"/>\r\n   </g>\r\n   <g id=\"patch_64\">\r\n    <path clip-path=\"url(#p2c23ebdbdd)\" d=\"M 932.367188 459.477656 \r\nL 943.813341 459.477656 \r\nL 943.813341 453.734139 \r\nL 932.367188 453.734139 \r\nz\r\n\" style=\"fill:#c6a0ea;\"/>\r\n   </g>\r\n   <g id=\"patch_65\">\r\n    <path clip-path=\"url(#p2c23ebdbdd)\" d=\"M 946.67488 459.477656 \r\nL 958.121034 459.477656 \r\nL 958.121034 456.499536 \r\nL 946.67488 456.499536 \r\nz\r\n\" style=\"fill:#cc9de9;\"/>\r\n   </g>\r\n   <g id=\"patch_66\">\r\n    <path clip-path=\"url(#p2c23ebdbdd)\" d=\"M 960.982572 459.477656 \r\nL 972.428726 459.477656 \r\nL 972.428726 452.883247 \r\nL 960.982572 452.883247 \r\nz\r\n\" style=\"fill:#d299e9;\"/>\r\n   </g>\r\n   <g id=\"patch_67\">\r\n    <path clip-path=\"url(#p2c23ebdbdd)\" d=\"M 975.290264 459.477656 \r\nL 986.736418 459.477656 \r\nL 986.736418 455.223199 \r\nL 975.290264 455.223199 \r\nz\r\n\" style=\"fill:#d894e8;\"/>\r\n   </g>\r\n   <g id=\"patch_68\">\r\n    <path clip-path=\"url(#p2c23ebdbdd)\" d=\"M 989.597957 459.477656 \r\nL 1001.044111 459.477656 \r\nL 1001.044111 455.861367 \r\nL 989.597957 455.861367 \r\nz\r\n\" style=\"fill:#df8fe7;\"/>\r\n   </g>\r\n   <g id=\"patch_69\">\r\n    <path clip-path=\"url(#p2c23ebdbdd)\" d=\"M 1003.905649 459.477656 \r\nL 1015.351803 459.477656 \r\nL 1015.351803 455.861367 \r\nL 1003.905649 455.861367 \r\nz\r\n\" style=\"fill:#e689e6;\"/>\r\n   </g>\r\n   <g id=\"patch_70\">\r\n    <path clip-path=\"url(#p2c23ebdbdd)\" d=\"M 1018.213341 459.477656 \r\nL 1029.659495 459.477656 \r\nL 1029.659495 457.988596 \r\nL 1018.213341 457.988596 \r\nz\r\n\" style=\"fill:#e78adf;\"/>\r\n   </g>\r\n   <g id=\"patch_71\">\r\n    <path clip-path=\"url(#p2c23ebdbdd)\" d=\"M 1032.521034 459.477656 \r\nL 1043.967187 459.477656 \r\nL 1043.967187 456.286813 \r\nL 1032.521034 456.286813 \r\nz\r\n\" style=\"fill:#e78cd9;\"/>\r\n   </g>\r\n   <g id=\"patch_72\">\r\n    <path clip-path=\"url(#p2c23ebdbdd)\" d=\"M 1046.828726 459.477656 \r\nL 1058.27488 459.477656 \r\nL 1058.27488 457.775873 \r\nL 1046.828726 457.775873 \r\nz\r\n\" style=\"fill:#e78dd3;\"/>\r\n   </g>\r\n   <g id=\"patch_73\">\r\n    <path clip-path=\"url(#p2c23ebdbdd)\" d=\"M 1061.136418 459.477656 \r\nL 1072.582572 459.477656 \r\nL 1072.582572 459.264933 \r\nL 1061.136418 459.264933 \r\nz\r\n\" style=\"fill:#e88ecd;\"/>\r\n   </g>\r\n   <g id=\"patch_74\">\r\n    <path clip-path=\"url(#p2c23ebdbdd)\" d=\"M 1075.444111 459.477656 \r\nL 1086.890264 459.477656 \r\nL 1086.890264 454.797753 \r\nL 1075.444111 454.797753 \r\nz\r\n\" style=\"fill:#e890c8;\"/>\r\n   </g>\r\n   <g id=\"patch_75\">\r\n    <path clip-path=\"url(#p2c23ebdbdd)\" d=\"M 1089.751803 459.477656 \r\nL 1101.197957 459.477656 \r\nL 1101.197957 459.052211 \r\nL 1089.751803 459.052211 \r\nz\r\n\" style=\"fill:#e891c3;\"/>\r\n   </g>\r\n   <g id=\"patch_76\">\r\n    <path clip-path=\"url(#p2c23ebdbdd)\" d=\"M 1104.059495 459.477656 \r\nL 1115.505649 459.477656 \r\nL 1115.505649 459.052211 \r\nL 1104.059495 459.052211 \r\nz\r\n\" style=\"fill:#e992be;\"/>\r\n   </g>\r\n   <g id=\"patch_77\">\r\n    <path clip-path=\"url(#p2c23ebdbdd)\" d=\"M 1118.367187 459.477656 \r\nL 1129.813341 459.477656 \r\nL 1129.813341 458.626765 \r\nL 1118.367187 458.626765 \r\nz\r\n\" style=\"fill:#e992b9;\"/>\r\n   </g>\r\n   <g id=\"patch_78\">\r\n    <path clip-path=\"url(#p2c23ebdbdd)\" d=\"M 1132.67488 459.477656 \r\nL 1144.121034 459.477656 \r\nL 1144.121034 459.264933 \r\nL 1132.67488 459.264933 \r\nz\r\n\" style=\"fill:#e993b4;\"/>\r\n   </g>\r\n   <g id=\"patch_79\">\r\n    <path clip-path=\"url(#p2c23ebdbdd)\" d=\"M 1146.982572 459.477656 \r\nL 1158.428726 459.477656 \r\nL 1158.428726 459.264933 \r\nL 1146.982572 459.264933 \r\nz\r\n\" style=\"fill:#e994af;\"/>\r\n   </g>\r\n   <g id=\"patch_80\">\r\n    <path clip-path=\"url(#p2c23ebdbdd)\" d=\"M 1161.290264 459.477656 \r\nL 1172.736418 459.477656 \r\nL 1172.736418 459.052211 \r\nL 1161.290264 459.052211 \r\nz\r\n\" style=\"fill:#e995aa;\"/>\r\n   </g>\r\n   <g id=\"matplotlib.axis_1\">\r\n    <g id=\"xtick_1\">\r\n     <g id=\"line2d_1\">\r\n      <defs>\r\n       <path d=\"M 0 0 \r\nL 0 3.5 \r\n\" id=\"mf8f3bdfc4b\" style=\"stroke:#000000;stroke-width:0.8;\"/>\r\n      </defs>\r\n      <g>\r\n       <use style=\"stroke:#000000;stroke-width:0.8;\" x=\"65.321034\" xlink:href=\"#mf8f3bdfc4b\" y=\"459.477656\"/>\r\n      </g>\r\n     </g>\r\n     <g id=\"text_1\">\r\n      <!-- 17 -->\r\n      <defs>\r\n       <path d=\"M 12.40625 8.296875 \r\nL 28.515625 8.296875 \r\nL 28.515625 63.921875 \r\nL 10.984375 60.40625 \r\nL 10.984375 69.390625 \r\nL 28.421875 72.90625 \r\nL 38.28125 72.90625 \r\nL 38.28125 8.296875 \r\nL 54.390625 8.296875 \r\nL 54.390625 0 \r\nL 12.40625 0 \r\nz\r\n\" id=\"DejaVuSans-31\"/>\r\n       <path d=\"M 8.203125 72.90625 \r\nL 55.078125 72.90625 \r\nL 55.078125 68.703125 \r\nL 28.609375 0 \r\nL 18.3125 0 \r\nL 43.21875 64.59375 \r\nL 8.203125 64.59375 \r\nz\r\n\" id=\"DejaVuSans-37\"/>\r\n      </defs>\r\n      <g transform=\"translate(58.958534 474.076094)scale(0.1 -0.1)\">\r\n       <use xlink:href=\"#DejaVuSans-31\"/>\r\n       <use x=\"63.623047\" xlink:href=\"#DejaVuSans-37\"/>\r\n      </g>\r\n     </g>\r\n    </g>\r\n    <g id=\"xtick_2\">\r\n     <g id=\"line2d_2\">\r\n      <g>\r\n       <use style=\"stroke:#000000;stroke-width:0.8;\" x=\"79.628726\" xlink:href=\"#mf8f3bdfc4b\" y=\"459.477656\"/>\r\n      </g>\r\n     </g>\r\n     <g id=\"text_2\">\r\n      <!-- 18 -->\r\n      <defs>\r\n       <path d=\"M 31.78125 34.625 \r\nQ 24.75 34.625 20.71875 30.859375 \r\nQ 16.703125 27.09375 16.703125 20.515625 \r\nQ 16.703125 13.921875 20.71875 10.15625 \r\nQ 24.75 6.390625 31.78125 6.390625 \r\nQ 38.8125 6.390625 42.859375 10.171875 \r\nQ 46.921875 13.96875 46.921875 20.515625 \r\nQ 46.921875 27.09375 42.890625 30.859375 \r\nQ 38.875 34.625 31.78125 34.625 \r\nz\r\nM 21.921875 38.8125 \r\nQ 15.578125 40.375 12.03125 44.71875 \r\nQ 8.5 49.078125 8.5 55.328125 \r\nQ 8.5 64.0625 14.71875 69.140625 \r\nQ 20.953125 74.21875 31.78125 74.21875 \r\nQ 42.671875 74.21875 48.875 69.140625 \r\nQ 55.078125 64.0625 55.078125 55.328125 \r\nQ 55.078125 49.078125 51.53125 44.71875 \r\nQ 48 40.375 41.703125 38.8125 \r\nQ 48.828125 37.15625 52.796875 32.3125 \r\nQ 56.78125 27.484375 56.78125 20.515625 \r\nQ 56.78125 9.90625 50.3125 4.234375 \r\nQ 43.84375 -1.421875 31.78125 -1.421875 \r\nQ 19.734375 -1.421875 13.25 4.234375 \r\nQ 6.78125 9.90625 6.78125 20.515625 \r\nQ 6.78125 27.484375 10.78125 32.3125 \r\nQ 14.796875 37.15625 21.921875 38.8125 \r\nz\r\nM 18.3125 54.390625 \r\nQ 18.3125 48.734375 21.84375 45.5625 \r\nQ 25.390625 42.390625 31.78125 42.390625 \r\nQ 38.140625 42.390625 41.71875 45.5625 \r\nQ 45.3125 48.734375 45.3125 54.390625 \r\nQ 45.3125 60.0625 41.71875 63.234375 \r\nQ 38.140625 66.40625 31.78125 66.40625 \r\nQ 25.390625 66.40625 21.84375 63.234375 \r\nQ 18.3125 60.0625 18.3125 54.390625 \r\nz\r\n\" id=\"DejaVuSans-38\"/>\r\n      </defs>\r\n      <g transform=\"translate(73.266226 474.076094)scale(0.1 -0.1)\">\r\n       <use xlink:href=\"#DejaVuSans-31\"/>\r\n       <use x=\"63.623047\" xlink:href=\"#DejaVuSans-38\"/>\r\n      </g>\r\n     </g>\r\n    </g>\r\n    <g id=\"xtick_3\">\r\n     <g id=\"line2d_3\">\r\n      <g>\r\n       <use style=\"stroke:#000000;stroke-width:0.8;\" x=\"93.936418\" xlink:href=\"#mf8f3bdfc4b\" y=\"459.477656\"/>\r\n      </g>\r\n     </g>\r\n     <g id=\"text_3\">\r\n      <!-- 19 -->\r\n      <defs>\r\n       <path d=\"M 10.984375 1.515625 \r\nL 10.984375 10.5 \r\nQ 14.703125 8.734375 18.5 7.8125 \r\nQ 22.3125 6.890625 25.984375 6.890625 \r\nQ 35.75 6.890625 40.890625 13.453125 \r\nQ 46.046875 20.015625 46.78125 33.40625 \r\nQ 43.953125 29.203125 39.59375 26.953125 \r\nQ 35.25 24.703125 29.984375 24.703125 \r\nQ 19.046875 24.703125 12.671875 31.3125 \r\nQ 6.296875 37.9375 6.296875 49.421875 \r\nQ 6.296875 60.640625 12.9375 67.421875 \r\nQ 19.578125 74.21875 30.609375 74.21875 \r\nQ 43.265625 74.21875 49.921875 64.515625 \r\nQ 56.59375 54.828125 56.59375 36.375 \r\nQ 56.59375 19.140625 48.40625 8.859375 \r\nQ 40.234375 -1.421875 26.421875 -1.421875 \r\nQ 22.703125 -1.421875 18.890625 -0.6875 \r\nQ 15.09375 0.046875 10.984375 1.515625 \r\nz\r\nM 30.609375 32.421875 \r\nQ 37.25 32.421875 41.125 36.953125 \r\nQ 45.015625 41.5 45.015625 49.421875 \r\nQ 45.015625 57.28125 41.125 61.84375 \r\nQ 37.25 66.40625 30.609375 66.40625 \r\nQ 23.96875 66.40625 20.09375 61.84375 \r\nQ 16.21875 57.28125 16.21875 49.421875 \r\nQ 16.21875 41.5 20.09375 36.953125 \r\nQ 23.96875 32.421875 30.609375 32.421875 \r\nz\r\n\" id=\"DejaVuSans-39\"/>\r\n      </defs>\r\n      <g transform=\"translate(87.573918 474.076094)scale(0.1 -0.1)\">\r\n       <use xlink:href=\"#DejaVuSans-31\"/>\r\n       <use x=\"63.623047\" xlink:href=\"#DejaVuSans-39\"/>\r\n      </g>\r\n     </g>\r\n    </g>\r\n    <g id=\"xtick_4\">\r\n     <g id=\"line2d_4\">\r\n      <g>\r\n       <use style=\"stroke:#000000;stroke-width:0.8;\" x=\"108.244111\" xlink:href=\"#mf8f3bdfc4b\" y=\"459.477656\"/>\r\n      </g>\r\n     </g>\r\n     <g id=\"text_4\">\r\n      <!-- 20 -->\r\n      <defs>\r\n       <path d=\"M 19.1875 8.296875 \r\nL 53.609375 8.296875 \r\nL 53.609375 0 \r\nL 7.328125 0 \r\nL 7.328125 8.296875 \r\nQ 12.9375 14.109375 22.625 23.890625 \r\nQ 32.328125 33.6875 34.8125 36.53125 \r\nQ 39.546875 41.84375 41.421875 45.53125 \r\nQ 43.3125 49.21875 43.3125 52.78125 \r\nQ 43.3125 58.59375 39.234375 62.25 \r\nQ 35.15625 65.921875 28.609375 65.921875 \r\nQ 23.96875 65.921875 18.8125 64.3125 \r\nQ 13.671875 62.703125 7.8125 59.421875 \r\nL 7.8125 69.390625 \r\nQ 13.765625 71.78125 18.9375 73 \r\nQ 24.125 74.21875 28.421875 74.21875 \r\nQ 39.75 74.21875 46.484375 68.546875 \r\nQ 53.21875 62.890625 53.21875 53.421875 \r\nQ 53.21875 48.921875 51.53125 44.890625 \r\nQ 49.859375 40.875 45.40625 35.40625 \r\nQ 44.1875 33.984375 37.640625 27.21875 \r\nQ 31.109375 20.453125 19.1875 8.296875 \r\nz\r\n\" id=\"DejaVuSans-32\"/>\r\n       <path d=\"M 31.78125 66.40625 \r\nQ 24.171875 66.40625 20.328125 58.90625 \r\nQ 16.5 51.421875 16.5 36.375 \r\nQ 16.5 21.390625 20.328125 13.890625 \r\nQ 24.171875 6.390625 31.78125 6.390625 \r\nQ 39.453125 6.390625 43.28125 13.890625 \r\nQ 47.125 21.390625 47.125 36.375 \r\nQ 47.125 51.421875 43.28125 58.90625 \r\nQ 39.453125 66.40625 31.78125 66.40625 \r\nz\r\nM 31.78125 74.21875 \r\nQ 44.046875 74.21875 50.515625 64.515625 \r\nQ 56.984375 54.828125 56.984375 36.375 \r\nQ 56.984375 17.96875 50.515625 8.265625 \r\nQ 44.046875 -1.421875 31.78125 -1.421875 \r\nQ 19.53125 -1.421875 13.0625 8.265625 \r\nQ 6.59375 17.96875 6.59375 36.375 \r\nQ 6.59375 54.828125 13.0625 64.515625 \r\nQ 19.53125 74.21875 31.78125 74.21875 \r\nz\r\n\" id=\"DejaVuSans-30\"/>\r\n      </defs>\r\n      <g transform=\"translate(101.881611 474.076094)scale(0.1 -0.1)\">\r\n       <use xlink:href=\"#DejaVuSans-32\"/>\r\n       <use x=\"63.623047\" xlink:href=\"#DejaVuSans-30\"/>\r\n      </g>\r\n     </g>\r\n    </g>\r\n    <g id=\"xtick_5\">\r\n     <g id=\"line2d_5\">\r\n      <g>\r\n       <use style=\"stroke:#000000;stroke-width:0.8;\" x=\"122.551803\" xlink:href=\"#mf8f3bdfc4b\" y=\"459.477656\"/>\r\n      </g>\r\n     </g>\r\n     <g id=\"text_5\">\r\n      <!-- 21 -->\r\n      <g transform=\"translate(116.189303 474.076094)scale(0.1 -0.1)\">\r\n       <use xlink:href=\"#DejaVuSans-32\"/>\r\n       <use x=\"63.623047\" xlink:href=\"#DejaVuSans-31\"/>\r\n      </g>\r\n     </g>\r\n    </g>\r\n    <g id=\"xtick_6\">\r\n     <g id=\"line2d_6\">\r\n      <g>\r\n       <use style=\"stroke:#000000;stroke-width:0.8;\" x=\"136.859495\" xlink:href=\"#mf8f3bdfc4b\" y=\"459.477656\"/>\r\n      </g>\r\n     </g>\r\n     <g id=\"text_6\">\r\n      <!-- 22 -->\r\n      <g transform=\"translate(130.496995 474.076094)scale(0.1 -0.1)\">\r\n       <use xlink:href=\"#DejaVuSans-32\"/>\r\n       <use x=\"63.623047\" xlink:href=\"#DejaVuSans-32\"/>\r\n      </g>\r\n     </g>\r\n    </g>\r\n    <g id=\"xtick_7\">\r\n     <g id=\"line2d_7\">\r\n      <g>\r\n       <use style=\"stroke:#000000;stroke-width:0.8;\" x=\"151.167188\" xlink:href=\"#mf8f3bdfc4b\" y=\"459.477656\"/>\r\n      </g>\r\n     </g>\r\n     <g id=\"text_7\">\r\n      <!-- 23 -->\r\n      <defs>\r\n       <path d=\"M 40.578125 39.3125 \r\nQ 47.65625 37.796875 51.625 33 \r\nQ 55.609375 28.21875 55.609375 21.1875 \r\nQ 55.609375 10.40625 48.1875 4.484375 \r\nQ 40.765625 -1.421875 27.09375 -1.421875 \r\nQ 22.515625 -1.421875 17.65625 -0.515625 \r\nQ 12.796875 0.390625 7.625 2.203125 \r\nL 7.625 11.71875 \r\nQ 11.71875 9.328125 16.59375 8.109375 \r\nQ 21.484375 6.890625 26.8125 6.890625 \r\nQ 36.078125 6.890625 40.9375 10.546875 \r\nQ 45.796875 14.203125 45.796875 21.1875 \r\nQ 45.796875 27.640625 41.28125 31.265625 \r\nQ 36.765625 34.90625 28.71875 34.90625 \r\nL 20.21875 34.90625 \r\nL 20.21875 43.015625 \r\nL 29.109375 43.015625 \r\nQ 36.375 43.015625 40.234375 45.921875 \r\nQ 44.09375 48.828125 44.09375 54.296875 \r\nQ 44.09375 59.90625 40.109375 62.90625 \r\nQ 36.140625 65.921875 28.71875 65.921875 \r\nQ 24.65625 65.921875 20.015625 65.03125 \r\nQ 15.375 64.15625 9.8125 62.3125 \r\nL 9.8125 71.09375 \r\nQ 15.4375 72.65625 20.34375 73.4375 \r\nQ 25.25 74.21875 29.59375 74.21875 \r\nQ 40.828125 74.21875 47.359375 69.109375 \r\nQ 53.90625 64.015625 53.90625 55.328125 \r\nQ 53.90625 49.265625 50.4375 45.09375 \r\nQ 46.96875 40.921875 40.578125 39.3125 \r\nz\r\n\" id=\"DejaVuSans-33\"/>\r\n      </defs>\r\n      <g transform=\"translate(144.804688 474.076094)scale(0.1 -0.1)\">\r\n       <use xlink:href=\"#DejaVuSans-32\"/>\r\n       <use x=\"63.623047\" xlink:href=\"#DejaVuSans-33\"/>\r\n      </g>\r\n     </g>\r\n    </g>\r\n    <g id=\"xtick_8\">\r\n     <g id=\"line2d_8\">\r\n      <g>\r\n       <use style=\"stroke:#000000;stroke-width:0.8;\" x=\"165.47488\" xlink:href=\"#mf8f3bdfc4b\" y=\"459.477656\"/>\r\n      </g>\r\n     </g>\r\n     <g id=\"text_8\">\r\n      <!-- 24 -->\r\n      <defs>\r\n       <path d=\"M 37.796875 64.3125 \r\nL 12.890625 25.390625 \r\nL 37.796875 25.390625 \r\nz\r\nM 35.203125 72.90625 \r\nL 47.609375 72.90625 \r\nL 47.609375 25.390625 \r\nL 58.015625 25.390625 \r\nL 58.015625 17.1875 \r\nL 47.609375 17.1875 \r\nL 47.609375 0 \r\nL 37.796875 0 \r\nL 37.796875 17.1875 \r\nL 4.890625 17.1875 \r\nL 4.890625 26.703125 \r\nz\r\n\" id=\"DejaVuSans-34\"/>\r\n      </defs>\r\n      <g transform=\"translate(159.11238 474.076094)scale(0.1 -0.1)\">\r\n       <use xlink:href=\"#DejaVuSans-32\"/>\r\n       <use x=\"63.623047\" xlink:href=\"#DejaVuSans-34\"/>\r\n      </g>\r\n     </g>\r\n    </g>\r\n    <g id=\"xtick_9\">\r\n     <g id=\"line2d_9\">\r\n      <g>\r\n       <use style=\"stroke:#000000;stroke-width:0.8;\" x=\"179.782572\" xlink:href=\"#mf8f3bdfc4b\" y=\"459.477656\"/>\r\n      </g>\r\n     </g>\r\n     <g id=\"text_9\">\r\n      <!-- 25 -->\r\n      <defs>\r\n       <path d=\"M 10.796875 72.90625 \r\nL 49.515625 72.90625 \r\nL 49.515625 64.59375 \r\nL 19.828125 64.59375 \r\nL 19.828125 46.734375 \r\nQ 21.96875 47.46875 24.109375 47.828125 \r\nQ 26.265625 48.1875 28.421875 48.1875 \r\nQ 40.625 48.1875 47.75 41.5 \r\nQ 54.890625 34.8125 54.890625 23.390625 \r\nQ 54.890625 11.625 47.5625 5.09375 \r\nQ 40.234375 -1.421875 26.90625 -1.421875 \r\nQ 22.3125 -1.421875 17.546875 -0.640625 \r\nQ 12.796875 0.140625 7.71875 1.703125 \r\nL 7.71875 11.625 \r\nQ 12.109375 9.234375 16.796875 8.0625 \r\nQ 21.484375 6.890625 26.703125 6.890625 \r\nQ 35.15625 6.890625 40.078125 11.328125 \r\nQ 45.015625 15.765625 45.015625 23.390625 \r\nQ 45.015625 31 40.078125 35.4375 \r\nQ 35.15625 39.890625 26.703125 39.890625 \r\nQ 22.75 39.890625 18.8125 39.015625 \r\nQ 14.890625 38.140625 10.796875 36.28125 \r\nz\r\n\" id=\"DejaVuSans-35\"/>\r\n      </defs>\r\n      <g transform=\"translate(173.420072 474.076094)scale(0.1 -0.1)\">\r\n       <use xlink:href=\"#DejaVuSans-32\"/>\r\n       <use x=\"63.623047\" xlink:href=\"#DejaVuSans-35\"/>\r\n      </g>\r\n     </g>\r\n    </g>\r\n    <g id=\"xtick_10\">\r\n     <g id=\"line2d_10\">\r\n      <g>\r\n       <use style=\"stroke:#000000;stroke-width:0.8;\" x=\"194.090264\" xlink:href=\"#mf8f3bdfc4b\" y=\"459.477656\"/>\r\n      </g>\r\n     </g>\r\n     <g id=\"text_10\">\r\n      <!-- 26 -->\r\n      <defs>\r\n       <path d=\"M 33.015625 40.375 \r\nQ 26.375 40.375 22.484375 35.828125 \r\nQ 18.609375 31.296875 18.609375 23.390625 \r\nQ 18.609375 15.53125 22.484375 10.953125 \r\nQ 26.375 6.390625 33.015625 6.390625 \r\nQ 39.65625 6.390625 43.53125 10.953125 \r\nQ 47.40625 15.53125 47.40625 23.390625 \r\nQ 47.40625 31.296875 43.53125 35.828125 \r\nQ 39.65625 40.375 33.015625 40.375 \r\nz\r\nM 52.59375 71.296875 \r\nL 52.59375 62.3125 \r\nQ 48.875 64.0625 45.09375 64.984375 \r\nQ 41.3125 65.921875 37.59375 65.921875 \r\nQ 27.828125 65.921875 22.671875 59.328125 \r\nQ 17.53125 52.734375 16.796875 39.40625 \r\nQ 19.671875 43.65625 24.015625 45.921875 \r\nQ 28.375 48.1875 33.59375 48.1875 \r\nQ 44.578125 48.1875 50.953125 41.515625 \r\nQ 57.328125 34.859375 57.328125 23.390625 \r\nQ 57.328125 12.15625 50.6875 5.359375 \r\nQ 44.046875 -1.421875 33.015625 -1.421875 \r\nQ 20.359375 -1.421875 13.671875 8.265625 \r\nQ 6.984375 17.96875 6.984375 36.375 \r\nQ 6.984375 53.65625 15.1875 63.9375 \r\nQ 23.390625 74.21875 37.203125 74.21875 \r\nQ 40.921875 74.21875 44.703125 73.484375 \r\nQ 48.484375 72.75 52.59375 71.296875 \r\nz\r\n\" id=\"DejaVuSans-36\"/>\r\n      </defs>\r\n      <g transform=\"translate(187.727764 474.076094)scale(0.1 -0.1)\">\r\n       <use xlink:href=\"#DejaVuSans-32\"/>\r\n       <use x=\"63.623047\" xlink:href=\"#DejaVuSans-36\"/>\r\n      </g>\r\n     </g>\r\n    </g>\r\n    <g id=\"xtick_11\">\r\n     <g id=\"line2d_11\">\r\n      <g>\r\n       <use style=\"stroke:#000000;stroke-width:0.8;\" x=\"208.397957\" xlink:href=\"#mf8f3bdfc4b\" y=\"459.477656\"/>\r\n      </g>\r\n     </g>\r\n     <g id=\"text_11\">\r\n      <!-- 27 -->\r\n      <g transform=\"translate(202.035457 474.076094)scale(0.1 -0.1)\">\r\n       <use xlink:href=\"#DejaVuSans-32\"/>\r\n       <use x=\"63.623047\" xlink:href=\"#DejaVuSans-37\"/>\r\n      </g>\r\n     </g>\r\n    </g>\r\n    <g id=\"xtick_12\">\r\n     <g id=\"line2d_12\">\r\n      <g>\r\n       <use style=\"stroke:#000000;stroke-width:0.8;\" x=\"222.705649\" xlink:href=\"#mf8f3bdfc4b\" y=\"459.477656\"/>\r\n      </g>\r\n     </g>\r\n     <g id=\"text_12\">\r\n      <!-- 28 -->\r\n      <g transform=\"translate(216.343149 474.076094)scale(0.1 -0.1)\">\r\n       <use xlink:href=\"#DejaVuSans-32\"/>\r\n       <use x=\"63.623047\" xlink:href=\"#DejaVuSans-38\"/>\r\n      </g>\r\n     </g>\r\n    </g>\r\n    <g id=\"xtick_13\">\r\n     <g id=\"line2d_13\">\r\n      <g>\r\n       <use style=\"stroke:#000000;stroke-width:0.8;\" x=\"237.013341\" xlink:href=\"#mf8f3bdfc4b\" y=\"459.477656\"/>\r\n      </g>\r\n     </g>\r\n     <g id=\"text_13\">\r\n      <!-- 29 -->\r\n      <g transform=\"translate(230.650841 474.076094)scale(0.1 -0.1)\">\r\n       <use xlink:href=\"#DejaVuSans-32\"/>\r\n       <use x=\"63.623047\" xlink:href=\"#DejaVuSans-39\"/>\r\n      </g>\r\n     </g>\r\n    </g>\r\n    <g id=\"xtick_14\">\r\n     <g id=\"line2d_14\">\r\n      <g>\r\n       <use style=\"stroke:#000000;stroke-width:0.8;\" x=\"251.321034\" xlink:href=\"#mf8f3bdfc4b\" y=\"459.477656\"/>\r\n      </g>\r\n     </g>\r\n     <g id=\"text_14\">\r\n      <!-- 30 -->\r\n      <g transform=\"translate(244.958534 474.076094)scale(0.1 -0.1)\">\r\n       <use xlink:href=\"#DejaVuSans-33\"/>\r\n       <use x=\"63.623047\" xlink:href=\"#DejaVuSans-30\"/>\r\n      </g>\r\n     </g>\r\n    </g>\r\n    <g id=\"xtick_15\">\r\n     <g id=\"line2d_15\">\r\n      <g>\r\n       <use style=\"stroke:#000000;stroke-width:0.8;\" x=\"265.628726\" xlink:href=\"#mf8f3bdfc4b\" y=\"459.477656\"/>\r\n      </g>\r\n     </g>\r\n     <g id=\"text_15\">\r\n      <!-- 31 -->\r\n      <g transform=\"translate(259.266226 474.076094)scale(0.1 -0.1)\">\r\n       <use xlink:href=\"#DejaVuSans-33\"/>\r\n       <use x=\"63.623047\" xlink:href=\"#DejaVuSans-31\"/>\r\n      </g>\r\n     </g>\r\n    </g>\r\n    <g id=\"xtick_16\">\r\n     <g id=\"line2d_16\">\r\n      <g>\r\n       <use style=\"stroke:#000000;stroke-width:0.8;\" x=\"279.936418\" xlink:href=\"#mf8f3bdfc4b\" y=\"459.477656\"/>\r\n      </g>\r\n     </g>\r\n     <g id=\"text_16\">\r\n      <!-- 32 -->\r\n      <g transform=\"translate(273.573918 474.076094)scale(0.1 -0.1)\">\r\n       <use xlink:href=\"#DejaVuSans-33\"/>\r\n       <use x=\"63.623047\" xlink:href=\"#DejaVuSans-32\"/>\r\n      </g>\r\n     </g>\r\n    </g>\r\n    <g id=\"xtick_17\">\r\n     <g id=\"line2d_17\">\r\n      <g>\r\n       <use style=\"stroke:#000000;stroke-width:0.8;\" x=\"294.244111\" xlink:href=\"#mf8f3bdfc4b\" y=\"459.477656\"/>\r\n      </g>\r\n     </g>\r\n     <g id=\"text_17\">\r\n      <!-- 33 -->\r\n      <g transform=\"translate(287.881611 474.076094)scale(0.1 -0.1)\">\r\n       <use xlink:href=\"#DejaVuSans-33\"/>\r\n       <use x=\"63.623047\" xlink:href=\"#DejaVuSans-33\"/>\r\n      </g>\r\n     </g>\r\n    </g>\r\n    <g id=\"xtick_18\">\r\n     <g id=\"line2d_18\">\r\n      <g>\r\n       <use style=\"stroke:#000000;stroke-width:0.8;\" x=\"308.551803\" xlink:href=\"#mf8f3bdfc4b\" y=\"459.477656\"/>\r\n      </g>\r\n     </g>\r\n     <g id=\"text_18\">\r\n      <!-- 34 -->\r\n      <g transform=\"translate(302.189303 474.076094)scale(0.1 -0.1)\">\r\n       <use xlink:href=\"#DejaVuSans-33\"/>\r\n       <use x=\"63.623047\" xlink:href=\"#DejaVuSans-34\"/>\r\n      </g>\r\n     </g>\r\n    </g>\r\n    <g id=\"xtick_19\">\r\n     <g id=\"line2d_19\">\r\n      <g>\r\n       <use style=\"stroke:#000000;stroke-width:0.8;\" x=\"322.859495\" xlink:href=\"#mf8f3bdfc4b\" y=\"459.477656\"/>\r\n      </g>\r\n     </g>\r\n     <g id=\"text_19\">\r\n      <!-- 35 -->\r\n      <g transform=\"translate(316.496995 474.076094)scale(0.1 -0.1)\">\r\n       <use xlink:href=\"#DejaVuSans-33\"/>\r\n       <use x=\"63.623047\" xlink:href=\"#DejaVuSans-35\"/>\r\n      </g>\r\n     </g>\r\n    </g>\r\n    <g id=\"xtick_20\">\r\n     <g id=\"line2d_20\">\r\n      <g>\r\n       <use style=\"stroke:#000000;stroke-width:0.8;\" x=\"337.167187\" xlink:href=\"#mf8f3bdfc4b\" y=\"459.477656\"/>\r\n      </g>\r\n     </g>\r\n     <g id=\"text_20\">\r\n      <!-- 36 -->\r\n      <g transform=\"translate(330.804687 474.076094)scale(0.1 -0.1)\">\r\n       <use xlink:href=\"#DejaVuSans-33\"/>\r\n       <use x=\"63.623047\" xlink:href=\"#DejaVuSans-36\"/>\r\n      </g>\r\n     </g>\r\n    </g>\r\n    <g id=\"xtick_21\">\r\n     <g id=\"line2d_21\">\r\n      <g>\r\n       <use style=\"stroke:#000000;stroke-width:0.8;\" x=\"351.47488\" xlink:href=\"#mf8f3bdfc4b\" y=\"459.477656\"/>\r\n      </g>\r\n     </g>\r\n     <g id=\"text_21\">\r\n      <!-- 37 -->\r\n      <g transform=\"translate(345.11238 474.076094)scale(0.1 -0.1)\">\r\n       <use xlink:href=\"#DejaVuSans-33\"/>\r\n       <use x=\"63.623047\" xlink:href=\"#DejaVuSans-37\"/>\r\n      </g>\r\n     </g>\r\n    </g>\r\n    <g id=\"xtick_22\">\r\n     <g id=\"line2d_22\">\r\n      <g>\r\n       <use style=\"stroke:#000000;stroke-width:0.8;\" x=\"365.782572\" xlink:href=\"#mf8f3bdfc4b\" y=\"459.477656\"/>\r\n      </g>\r\n     </g>\r\n     <g id=\"text_22\">\r\n      <!-- 38 -->\r\n      <g transform=\"translate(359.420072 474.076094)scale(0.1 -0.1)\">\r\n       <use xlink:href=\"#DejaVuSans-33\"/>\r\n       <use x=\"63.623047\" xlink:href=\"#DejaVuSans-38\"/>\r\n      </g>\r\n     </g>\r\n    </g>\r\n    <g id=\"xtick_23\">\r\n     <g id=\"line2d_23\">\r\n      <g>\r\n       <use style=\"stroke:#000000;stroke-width:0.8;\" x=\"380.090264\" xlink:href=\"#mf8f3bdfc4b\" y=\"459.477656\"/>\r\n      </g>\r\n     </g>\r\n     <g id=\"text_23\">\r\n      <!-- 39 -->\r\n      <g transform=\"translate(373.727764 474.076094)scale(0.1 -0.1)\">\r\n       <use xlink:href=\"#DejaVuSans-33\"/>\r\n       <use x=\"63.623047\" xlink:href=\"#DejaVuSans-39\"/>\r\n      </g>\r\n     </g>\r\n    </g>\r\n    <g id=\"xtick_24\">\r\n     <g id=\"line2d_24\">\r\n      <g>\r\n       <use style=\"stroke:#000000;stroke-width:0.8;\" x=\"394.397957\" xlink:href=\"#mf8f3bdfc4b\" y=\"459.477656\"/>\r\n      </g>\r\n     </g>\r\n     <g id=\"text_24\">\r\n      <!-- 40 -->\r\n      <g transform=\"translate(388.035457 474.076094)scale(0.1 -0.1)\">\r\n       <use xlink:href=\"#DejaVuSans-34\"/>\r\n       <use x=\"63.623047\" xlink:href=\"#DejaVuSans-30\"/>\r\n      </g>\r\n     </g>\r\n    </g>\r\n    <g id=\"xtick_25\">\r\n     <g id=\"line2d_25\">\r\n      <g>\r\n       <use style=\"stroke:#000000;stroke-width:0.8;\" x=\"408.705649\" xlink:href=\"#mf8f3bdfc4b\" y=\"459.477656\"/>\r\n      </g>\r\n     </g>\r\n     <g id=\"text_25\">\r\n      <!-- 41 -->\r\n      <g transform=\"translate(402.343149 474.076094)scale(0.1 -0.1)\">\r\n       <use xlink:href=\"#DejaVuSans-34\"/>\r\n       <use x=\"63.623047\" xlink:href=\"#DejaVuSans-31\"/>\r\n      </g>\r\n     </g>\r\n    </g>\r\n    <g id=\"xtick_26\">\r\n     <g id=\"line2d_26\">\r\n      <g>\r\n       <use style=\"stroke:#000000;stroke-width:0.8;\" x=\"423.013341\" xlink:href=\"#mf8f3bdfc4b\" y=\"459.477656\"/>\r\n      </g>\r\n     </g>\r\n     <g id=\"text_26\">\r\n      <!-- 42 -->\r\n      <g transform=\"translate(416.650841 474.076094)scale(0.1 -0.1)\">\r\n       <use xlink:href=\"#DejaVuSans-34\"/>\r\n       <use x=\"63.623047\" xlink:href=\"#DejaVuSans-32\"/>\r\n      </g>\r\n     </g>\r\n    </g>\r\n    <g id=\"xtick_27\">\r\n     <g id=\"line2d_27\">\r\n      <g>\r\n       <use style=\"stroke:#000000;stroke-width:0.8;\" x=\"437.321034\" xlink:href=\"#mf8f3bdfc4b\" y=\"459.477656\"/>\r\n      </g>\r\n     </g>\r\n     <g id=\"text_27\">\r\n      <!-- 43 -->\r\n      <g transform=\"translate(430.958534 474.076094)scale(0.1 -0.1)\">\r\n       <use xlink:href=\"#DejaVuSans-34\"/>\r\n       <use x=\"63.623047\" xlink:href=\"#DejaVuSans-33\"/>\r\n      </g>\r\n     </g>\r\n    </g>\r\n    <g id=\"xtick_28\">\r\n     <g id=\"line2d_28\">\r\n      <g>\r\n       <use style=\"stroke:#000000;stroke-width:0.8;\" x=\"451.628726\" xlink:href=\"#mf8f3bdfc4b\" y=\"459.477656\"/>\r\n      </g>\r\n     </g>\r\n     <g id=\"text_28\">\r\n      <!-- 44 -->\r\n      <g transform=\"translate(445.266226 474.076094)scale(0.1 -0.1)\">\r\n       <use xlink:href=\"#DejaVuSans-34\"/>\r\n       <use x=\"63.623047\" xlink:href=\"#DejaVuSans-34\"/>\r\n      </g>\r\n     </g>\r\n    </g>\r\n    <g id=\"xtick_29\">\r\n     <g id=\"line2d_29\">\r\n      <g>\r\n       <use style=\"stroke:#000000;stroke-width:0.8;\" x=\"465.936418\" xlink:href=\"#mf8f3bdfc4b\" y=\"459.477656\"/>\r\n      </g>\r\n     </g>\r\n     <g id=\"text_29\">\r\n      <!-- 45 -->\r\n      <g transform=\"translate(459.573918 474.076094)scale(0.1 -0.1)\">\r\n       <use xlink:href=\"#DejaVuSans-34\"/>\r\n       <use x=\"63.623047\" xlink:href=\"#DejaVuSans-35\"/>\r\n      </g>\r\n     </g>\r\n    </g>\r\n    <g id=\"xtick_30\">\r\n     <g id=\"line2d_30\">\r\n      <g>\r\n       <use style=\"stroke:#000000;stroke-width:0.8;\" x=\"480.244111\" xlink:href=\"#mf8f3bdfc4b\" y=\"459.477656\"/>\r\n      </g>\r\n     </g>\r\n     <g id=\"text_30\">\r\n      <!-- 46 -->\r\n      <g transform=\"translate(473.881611 474.076094)scale(0.1 -0.1)\">\r\n       <use xlink:href=\"#DejaVuSans-34\"/>\r\n       <use x=\"63.623047\" xlink:href=\"#DejaVuSans-36\"/>\r\n      </g>\r\n     </g>\r\n    </g>\r\n    <g id=\"xtick_31\">\r\n     <g id=\"line2d_31\">\r\n      <g>\r\n       <use style=\"stroke:#000000;stroke-width:0.8;\" x=\"494.551803\" xlink:href=\"#mf8f3bdfc4b\" y=\"459.477656\"/>\r\n      </g>\r\n     </g>\r\n     <g id=\"text_31\">\r\n      <!-- 47 -->\r\n      <g transform=\"translate(488.189303 474.076094)scale(0.1 -0.1)\">\r\n       <use xlink:href=\"#DejaVuSans-34\"/>\r\n       <use x=\"63.623047\" xlink:href=\"#DejaVuSans-37\"/>\r\n      </g>\r\n     </g>\r\n    </g>\r\n    <g id=\"xtick_32\">\r\n     <g id=\"line2d_32\">\r\n      <g>\r\n       <use style=\"stroke:#000000;stroke-width:0.8;\" x=\"508.859495\" xlink:href=\"#mf8f3bdfc4b\" y=\"459.477656\"/>\r\n      </g>\r\n     </g>\r\n     <g id=\"text_32\">\r\n      <!-- 48 -->\r\n      <g transform=\"translate(502.496995 474.076094)scale(0.1 -0.1)\">\r\n       <use xlink:href=\"#DejaVuSans-34\"/>\r\n       <use x=\"63.623047\" xlink:href=\"#DejaVuSans-38\"/>\r\n      </g>\r\n     </g>\r\n    </g>\r\n    <g id=\"xtick_33\">\r\n     <g id=\"line2d_33\">\r\n      <g>\r\n       <use style=\"stroke:#000000;stroke-width:0.8;\" x=\"523.167187\" xlink:href=\"#mf8f3bdfc4b\" y=\"459.477656\"/>\r\n      </g>\r\n     </g>\r\n     <g id=\"text_33\">\r\n      <!-- 49 -->\r\n      <g transform=\"translate(516.804688 474.076094)scale(0.1 -0.1)\">\r\n       <use xlink:href=\"#DejaVuSans-34\"/>\r\n       <use x=\"63.623047\" xlink:href=\"#DejaVuSans-39\"/>\r\n      </g>\r\n     </g>\r\n    </g>\r\n    <g id=\"xtick_34\">\r\n     <g id=\"line2d_34\">\r\n      <g>\r\n       <use style=\"stroke:#000000;stroke-width:0.8;\" x=\"537.47488\" xlink:href=\"#mf8f3bdfc4b\" y=\"459.477656\"/>\r\n      </g>\r\n     </g>\r\n     <g id=\"text_34\">\r\n      <!-- 50 -->\r\n      <g transform=\"translate(531.11238 474.076094)scale(0.1 -0.1)\">\r\n       <use xlink:href=\"#DejaVuSans-35\"/>\r\n       <use x=\"63.623047\" xlink:href=\"#DejaVuSans-30\"/>\r\n      </g>\r\n     </g>\r\n    </g>\r\n    <g id=\"xtick_35\">\r\n     <g id=\"line2d_35\">\r\n      <g>\r\n       <use style=\"stroke:#000000;stroke-width:0.8;\" x=\"551.782572\" xlink:href=\"#mf8f3bdfc4b\" y=\"459.477656\"/>\r\n      </g>\r\n     </g>\r\n     <g id=\"text_35\">\r\n      <!-- 51 -->\r\n      <g transform=\"translate(545.420072 474.076094)scale(0.1 -0.1)\">\r\n       <use xlink:href=\"#DejaVuSans-35\"/>\r\n       <use x=\"63.623047\" xlink:href=\"#DejaVuSans-31\"/>\r\n      </g>\r\n     </g>\r\n    </g>\r\n    <g id=\"xtick_36\">\r\n     <g id=\"line2d_36\">\r\n      <g>\r\n       <use style=\"stroke:#000000;stroke-width:0.8;\" x=\"566.090264\" xlink:href=\"#mf8f3bdfc4b\" y=\"459.477656\"/>\r\n      </g>\r\n     </g>\r\n     <g id=\"text_36\">\r\n      <!-- 52 -->\r\n      <g transform=\"translate(559.727764 474.076094)scale(0.1 -0.1)\">\r\n       <use xlink:href=\"#DejaVuSans-35\"/>\r\n       <use x=\"63.623047\" xlink:href=\"#DejaVuSans-32\"/>\r\n      </g>\r\n     </g>\r\n    </g>\r\n    <g id=\"xtick_37\">\r\n     <g id=\"line2d_37\">\r\n      <g>\r\n       <use style=\"stroke:#000000;stroke-width:0.8;\" x=\"580.397957\" xlink:href=\"#mf8f3bdfc4b\" y=\"459.477656\"/>\r\n      </g>\r\n     </g>\r\n     <g id=\"text_37\">\r\n      <!-- 53 -->\r\n      <g transform=\"translate(574.035457 474.076094)scale(0.1 -0.1)\">\r\n       <use xlink:href=\"#DejaVuSans-35\"/>\r\n       <use x=\"63.623047\" xlink:href=\"#DejaVuSans-33\"/>\r\n      </g>\r\n     </g>\r\n    </g>\r\n    <g id=\"xtick_38\">\r\n     <g id=\"line2d_38\">\r\n      <g>\r\n       <use style=\"stroke:#000000;stroke-width:0.8;\" x=\"594.705649\" xlink:href=\"#mf8f3bdfc4b\" y=\"459.477656\"/>\r\n      </g>\r\n     </g>\r\n     <g id=\"text_38\">\r\n      <!-- 54 -->\r\n      <g transform=\"translate(588.343149 474.076094)scale(0.1 -0.1)\">\r\n       <use xlink:href=\"#DejaVuSans-35\"/>\r\n       <use x=\"63.623047\" xlink:href=\"#DejaVuSans-34\"/>\r\n      </g>\r\n     </g>\r\n    </g>\r\n    <g id=\"xtick_39\">\r\n     <g id=\"line2d_39\">\r\n      <g>\r\n       <use style=\"stroke:#000000;stroke-width:0.8;\" x=\"609.013341\" xlink:href=\"#mf8f3bdfc4b\" y=\"459.477656\"/>\r\n      </g>\r\n     </g>\r\n     <g id=\"text_39\">\r\n      <!-- 55 -->\r\n      <g transform=\"translate(602.650841 474.076094)scale(0.1 -0.1)\">\r\n       <use xlink:href=\"#DejaVuSans-35\"/>\r\n       <use x=\"63.623047\" xlink:href=\"#DejaVuSans-35\"/>\r\n      </g>\r\n     </g>\r\n    </g>\r\n    <g id=\"xtick_40\">\r\n     <g id=\"line2d_40\">\r\n      <g>\r\n       <use style=\"stroke:#000000;stroke-width:0.8;\" x=\"623.321034\" xlink:href=\"#mf8f3bdfc4b\" y=\"459.477656\"/>\r\n      </g>\r\n     </g>\r\n     <g id=\"text_40\">\r\n      <!-- 56 -->\r\n      <g transform=\"translate(616.958534 474.076094)scale(0.1 -0.1)\">\r\n       <use xlink:href=\"#DejaVuSans-35\"/>\r\n       <use x=\"63.623047\" xlink:href=\"#DejaVuSans-36\"/>\r\n      </g>\r\n     </g>\r\n    </g>\r\n    <g id=\"xtick_41\">\r\n     <g id=\"line2d_41\">\r\n      <g>\r\n       <use style=\"stroke:#000000;stroke-width:0.8;\" x=\"637.628726\" xlink:href=\"#mf8f3bdfc4b\" y=\"459.477656\"/>\r\n      </g>\r\n     </g>\r\n     <g id=\"text_41\">\r\n      <!-- 57 -->\r\n      <g transform=\"translate(631.266226 474.076094)scale(0.1 -0.1)\">\r\n       <use xlink:href=\"#DejaVuSans-35\"/>\r\n       <use x=\"63.623047\" xlink:href=\"#DejaVuSans-37\"/>\r\n      </g>\r\n     </g>\r\n    </g>\r\n    <g id=\"xtick_42\">\r\n     <g id=\"line2d_42\">\r\n      <g>\r\n       <use style=\"stroke:#000000;stroke-width:0.8;\" x=\"651.936418\" xlink:href=\"#mf8f3bdfc4b\" y=\"459.477656\"/>\r\n      </g>\r\n     </g>\r\n     <g id=\"text_42\">\r\n      <!-- 58 -->\r\n      <g transform=\"translate(645.573918 474.076094)scale(0.1 -0.1)\">\r\n       <use xlink:href=\"#DejaVuSans-35\"/>\r\n       <use x=\"63.623047\" xlink:href=\"#DejaVuSans-38\"/>\r\n      </g>\r\n     </g>\r\n    </g>\r\n    <g id=\"xtick_43\">\r\n     <g id=\"line2d_43\">\r\n      <g>\r\n       <use style=\"stroke:#000000;stroke-width:0.8;\" x=\"666.244111\" xlink:href=\"#mf8f3bdfc4b\" y=\"459.477656\"/>\r\n      </g>\r\n     </g>\r\n     <g id=\"text_43\">\r\n      <!-- 59 -->\r\n      <g transform=\"translate(659.881611 474.076094)scale(0.1 -0.1)\">\r\n       <use xlink:href=\"#DejaVuSans-35\"/>\r\n       <use x=\"63.623047\" xlink:href=\"#DejaVuSans-39\"/>\r\n      </g>\r\n     </g>\r\n    </g>\r\n    <g id=\"xtick_44\">\r\n     <g id=\"line2d_44\">\r\n      <g>\r\n       <use style=\"stroke:#000000;stroke-width:0.8;\" x=\"680.551803\" xlink:href=\"#mf8f3bdfc4b\" y=\"459.477656\"/>\r\n      </g>\r\n     </g>\r\n     <g id=\"text_44\">\r\n      <!-- 60 -->\r\n      <g transform=\"translate(674.189303 474.076094)scale(0.1 -0.1)\">\r\n       <use xlink:href=\"#DejaVuSans-36\"/>\r\n       <use x=\"63.623047\" xlink:href=\"#DejaVuSans-30\"/>\r\n      </g>\r\n     </g>\r\n    </g>\r\n    <g id=\"xtick_45\">\r\n     <g id=\"line2d_45\">\r\n      <g>\r\n       <use style=\"stroke:#000000;stroke-width:0.8;\" x=\"694.859495\" xlink:href=\"#mf8f3bdfc4b\" y=\"459.477656\"/>\r\n      </g>\r\n     </g>\r\n     <g id=\"text_45\">\r\n      <!-- 61 -->\r\n      <g transform=\"translate(688.496995 474.076094)scale(0.1 -0.1)\">\r\n       <use xlink:href=\"#DejaVuSans-36\"/>\r\n       <use x=\"63.623047\" xlink:href=\"#DejaVuSans-31\"/>\r\n      </g>\r\n     </g>\r\n    </g>\r\n    <g id=\"xtick_46\">\r\n     <g id=\"line2d_46\">\r\n      <g>\r\n       <use style=\"stroke:#000000;stroke-width:0.8;\" x=\"709.167187\" xlink:href=\"#mf8f3bdfc4b\" y=\"459.477656\"/>\r\n      </g>\r\n     </g>\r\n     <g id=\"text_46\">\r\n      <!-- 62 -->\r\n      <g transform=\"translate(702.804688 474.076094)scale(0.1 -0.1)\">\r\n       <use xlink:href=\"#DejaVuSans-36\"/>\r\n       <use x=\"63.623047\" xlink:href=\"#DejaVuSans-32\"/>\r\n      </g>\r\n     </g>\r\n    </g>\r\n    <g id=\"xtick_47\">\r\n     <g id=\"line2d_47\">\r\n      <g>\r\n       <use style=\"stroke:#000000;stroke-width:0.8;\" x=\"723.47488\" xlink:href=\"#mf8f3bdfc4b\" y=\"459.477656\"/>\r\n      </g>\r\n     </g>\r\n     <g id=\"text_47\">\r\n      <!-- 63 -->\r\n      <g transform=\"translate(717.11238 474.076094)scale(0.1 -0.1)\">\r\n       <use xlink:href=\"#DejaVuSans-36\"/>\r\n       <use x=\"63.623047\" xlink:href=\"#DejaVuSans-33\"/>\r\n      </g>\r\n     </g>\r\n    </g>\r\n    <g id=\"xtick_48\">\r\n     <g id=\"line2d_48\">\r\n      <g>\r\n       <use style=\"stroke:#000000;stroke-width:0.8;\" x=\"737.782572\" xlink:href=\"#mf8f3bdfc4b\" y=\"459.477656\"/>\r\n      </g>\r\n     </g>\r\n     <g id=\"text_48\">\r\n      <!-- 64 -->\r\n      <g transform=\"translate(731.420072 474.076094)scale(0.1 -0.1)\">\r\n       <use xlink:href=\"#DejaVuSans-36\"/>\r\n       <use x=\"63.623047\" xlink:href=\"#DejaVuSans-34\"/>\r\n      </g>\r\n     </g>\r\n    </g>\r\n    <g id=\"xtick_49\">\r\n     <g id=\"line2d_49\">\r\n      <g>\r\n       <use style=\"stroke:#000000;stroke-width:0.8;\" x=\"752.090264\" xlink:href=\"#mf8f3bdfc4b\" y=\"459.477656\"/>\r\n      </g>\r\n     </g>\r\n     <g id=\"text_49\">\r\n      <!-- 65 -->\r\n      <g transform=\"translate(745.727764 474.076094)scale(0.1 -0.1)\">\r\n       <use xlink:href=\"#DejaVuSans-36\"/>\r\n       <use x=\"63.623047\" xlink:href=\"#DejaVuSans-35\"/>\r\n      </g>\r\n     </g>\r\n    </g>\r\n    <g id=\"xtick_50\">\r\n     <g id=\"line2d_50\">\r\n      <g>\r\n       <use style=\"stroke:#000000;stroke-width:0.8;\" x=\"766.397957\" xlink:href=\"#mf8f3bdfc4b\" y=\"459.477656\"/>\r\n      </g>\r\n     </g>\r\n     <g id=\"text_50\">\r\n      <!-- 66 -->\r\n      <g transform=\"translate(760.035457 474.076094)scale(0.1 -0.1)\">\r\n       <use xlink:href=\"#DejaVuSans-36\"/>\r\n       <use x=\"63.623047\" xlink:href=\"#DejaVuSans-36\"/>\r\n      </g>\r\n     </g>\r\n    </g>\r\n    <g id=\"xtick_51\">\r\n     <g id=\"line2d_51\">\r\n      <g>\r\n       <use style=\"stroke:#000000;stroke-width:0.8;\" x=\"780.705649\" xlink:href=\"#mf8f3bdfc4b\" y=\"459.477656\"/>\r\n      </g>\r\n     </g>\r\n     <g id=\"text_51\">\r\n      <!-- 67 -->\r\n      <g transform=\"translate(774.343149 474.076094)scale(0.1 -0.1)\">\r\n       <use xlink:href=\"#DejaVuSans-36\"/>\r\n       <use x=\"63.623047\" xlink:href=\"#DejaVuSans-37\"/>\r\n      </g>\r\n     </g>\r\n    </g>\r\n    <g id=\"xtick_52\">\r\n     <g id=\"line2d_52\">\r\n      <g>\r\n       <use style=\"stroke:#000000;stroke-width:0.8;\" x=\"795.013341\" xlink:href=\"#mf8f3bdfc4b\" y=\"459.477656\"/>\r\n      </g>\r\n     </g>\r\n     <g id=\"text_52\">\r\n      <!-- 68 -->\r\n      <g transform=\"translate(788.650841 474.076094)scale(0.1 -0.1)\">\r\n       <use xlink:href=\"#DejaVuSans-36\"/>\r\n       <use x=\"63.623047\" xlink:href=\"#DejaVuSans-38\"/>\r\n      </g>\r\n     </g>\r\n    </g>\r\n    <g id=\"xtick_53\">\r\n     <g id=\"line2d_53\">\r\n      <g>\r\n       <use style=\"stroke:#000000;stroke-width:0.8;\" x=\"809.321034\" xlink:href=\"#mf8f3bdfc4b\" y=\"459.477656\"/>\r\n      </g>\r\n     </g>\r\n     <g id=\"text_53\">\r\n      <!-- 69 -->\r\n      <g transform=\"translate(802.958534 474.076094)scale(0.1 -0.1)\">\r\n       <use xlink:href=\"#DejaVuSans-36\"/>\r\n       <use x=\"63.623047\" xlink:href=\"#DejaVuSans-39\"/>\r\n      </g>\r\n     </g>\r\n    </g>\r\n    <g id=\"xtick_54\">\r\n     <g id=\"line2d_54\">\r\n      <g>\r\n       <use style=\"stroke:#000000;stroke-width:0.8;\" x=\"823.628726\" xlink:href=\"#mf8f3bdfc4b\" y=\"459.477656\"/>\r\n      </g>\r\n     </g>\r\n     <g id=\"text_54\">\r\n      <!-- 70 -->\r\n      <g transform=\"translate(817.266226 474.076094)scale(0.1 -0.1)\">\r\n       <use xlink:href=\"#DejaVuSans-37\"/>\r\n       <use x=\"63.623047\" xlink:href=\"#DejaVuSans-30\"/>\r\n      </g>\r\n     </g>\r\n    </g>\r\n    <g id=\"xtick_55\">\r\n     <g id=\"line2d_55\">\r\n      <g>\r\n       <use style=\"stroke:#000000;stroke-width:0.8;\" x=\"837.936418\" xlink:href=\"#mf8f3bdfc4b\" y=\"459.477656\"/>\r\n      </g>\r\n     </g>\r\n     <g id=\"text_55\">\r\n      <!-- 71 -->\r\n      <g transform=\"translate(831.573918 474.076094)scale(0.1 -0.1)\">\r\n       <use xlink:href=\"#DejaVuSans-37\"/>\r\n       <use x=\"63.623047\" xlink:href=\"#DejaVuSans-31\"/>\r\n      </g>\r\n     </g>\r\n    </g>\r\n    <g id=\"xtick_56\">\r\n     <g id=\"line2d_56\">\r\n      <g>\r\n       <use style=\"stroke:#000000;stroke-width:0.8;\" x=\"852.244111\" xlink:href=\"#mf8f3bdfc4b\" y=\"459.477656\"/>\r\n      </g>\r\n     </g>\r\n     <g id=\"text_56\">\r\n      <!-- 72 -->\r\n      <g transform=\"translate(845.881611 474.076094)scale(0.1 -0.1)\">\r\n       <use xlink:href=\"#DejaVuSans-37\"/>\r\n       <use x=\"63.623047\" xlink:href=\"#DejaVuSans-32\"/>\r\n      </g>\r\n     </g>\r\n    </g>\r\n    <g id=\"xtick_57\">\r\n     <g id=\"line2d_57\">\r\n      <g>\r\n       <use style=\"stroke:#000000;stroke-width:0.8;\" x=\"866.551803\" xlink:href=\"#mf8f3bdfc4b\" y=\"459.477656\"/>\r\n      </g>\r\n     </g>\r\n     <g id=\"text_57\">\r\n      <!-- 73 -->\r\n      <g transform=\"translate(860.189303 474.076094)scale(0.1 -0.1)\">\r\n       <use xlink:href=\"#DejaVuSans-37\"/>\r\n       <use x=\"63.623047\" xlink:href=\"#DejaVuSans-33\"/>\r\n      </g>\r\n     </g>\r\n    </g>\r\n    <g id=\"xtick_58\">\r\n     <g id=\"line2d_58\">\r\n      <g>\r\n       <use style=\"stroke:#000000;stroke-width:0.8;\" x=\"880.859495\" xlink:href=\"#mf8f3bdfc4b\" y=\"459.477656\"/>\r\n      </g>\r\n     </g>\r\n     <g id=\"text_58\">\r\n      <!-- 74 -->\r\n      <g transform=\"translate(874.496995 474.076094)scale(0.1 -0.1)\">\r\n       <use xlink:href=\"#DejaVuSans-37\"/>\r\n       <use x=\"63.623047\" xlink:href=\"#DejaVuSans-34\"/>\r\n      </g>\r\n     </g>\r\n    </g>\r\n    <g id=\"xtick_59\">\r\n     <g id=\"line2d_59\">\r\n      <g>\r\n       <use style=\"stroke:#000000;stroke-width:0.8;\" x=\"895.167187\" xlink:href=\"#mf8f3bdfc4b\" y=\"459.477656\"/>\r\n      </g>\r\n     </g>\r\n     <g id=\"text_59\">\r\n      <!-- 75 -->\r\n      <g transform=\"translate(888.804688 474.076094)scale(0.1 -0.1)\">\r\n       <use xlink:href=\"#DejaVuSans-37\"/>\r\n       <use x=\"63.623047\" xlink:href=\"#DejaVuSans-35\"/>\r\n      </g>\r\n     </g>\r\n    </g>\r\n    <g id=\"xtick_60\">\r\n     <g id=\"line2d_60\">\r\n      <g>\r\n       <use style=\"stroke:#000000;stroke-width:0.8;\" x=\"909.47488\" xlink:href=\"#mf8f3bdfc4b\" y=\"459.477656\"/>\r\n      </g>\r\n     </g>\r\n     <g id=\"text_60\">\r\n      <!-- 76 -->\r\n      <g transform=\"translate(903.11238 474.076094)scale(0.1 -0.1)\">\r\n       <use xlink:href=\"#DejaVuSans-37\"/>\r\n       <use x=\"63.623047\" xlink:href=\"#DejaVuSans-36\"/>\r\n      </g>\r\n     </g>\r\n    </g>\r\n    <g id=\"xtick_61\">\r\n     <g id=\"line2d_61\">\r\n      <g>\r\n       <use style=\"stroke:#000000;stroke-width:0.8;\" x=\"923.782572\" xlink:href=\"#mf8f3bdfc4b\" y=\"459.477656\"/>\r\n      </g>\r\n     </g>\r\n     <g id=\"text_61\">\r\n      <!-- 77 -->\r\n      <g transform=\"translate(917.420072 474.076094)scale(0.1 -0.1)\">\r\n       <use xlink:href=\"#DejaVuSans-37\"/>\r\n       <use x=\"63.623047\" xlink:href=\"#DejaVuSans-37\"/>\r\n      </g>\r\n     </g>\r\n    </g>\r\n    <g id=\"xtick_62\">\r\n     <g id=\"line2d_62\">\r\n      <g>\r\n       <use style=\"stroke:#000000;stroke-width:0.8;\" x=\"938.090264\" xlink:href=\"#mf8f3bdfc4b\" y=\"459.477656\"/>\r\n      </g>\r\n     </g>\r\n     <g id=\"text_62\">\r\n      <!-- 78 -->\r\n      <g transform=\"translate(931.727764 474.076094)scale(0.1 -0.1)\">\r\n       <use xlink:href=\"#DejaVuSans-37\"/>\r\n       <use x=\"63.623047\" xlink:href=\"#DejaVuSans-38\"/>\r\n      </g>\r\n     </g>\r\n    </g>\r\n    <g id=\"xtick_63\">\r\n     <g id=\"line2d_63\">\r\n      <g>\r\n       <use style=\"stroke:#000000;stroke-width:0.8;\" x=\"952.397957\" xlink:href=\"#mf8f3bdfc4b\" y=\"459.477656\"/>\r\n      </g>\r\n     </g>\r\n     <g id=\"text_63\">\r\n      <!-- 79 -->\r\n      <g transform=\"translate(946.035457 474.076094)scale(0.1 -0.1)\">\r\n       <use xlink:href=\"#DejaVuSans-37\"/>\r\n       <use x=\"63.623047\" xlink:href=\"#DejaVuSans-39\"/>\r\n      </g>\r\n     </g>\r\n    </g>\r\n    <g id=\"xtick_64\">\r\n     <g id=\"line2d_64\">\r\n      <g>\r\n       <use style=\"stroke:#000000;stroke-width:0.8;\" x=\"966.705649\" xlink:href=\"#mf8f3bdfc4b\" y=\"459.477656\"/>\r\n      </g>\r\n     </g>\r\n     <g id=\"text_64\">\r\n      <!-- 80 -->\r\n      <g transform=\"translate(960.343149 474.076094)scale(0.1 -0.1)\">\r\n       <use xlink:href=\"#DejaVuSans-38\"/>\r\n       <use x=\"63.623047\" xlink:href=\"#DejaVuSans-30\"/>\r\n      </g>\r\n     </g>\r\n    </g>\r\n    <g id=\"xtick_65\">\r\n     <g id=\"line2d_65\">\r\n      <g>\r\n       <use style=\"stroke:#000000;stroke-width:0.8;\" x=\"981.013341\" xlink:href=\"#mf8f3bdfc4b\" y=\"459.477656\"/>\r\n      </g>\r\n     </g>\r\n     <g id=\"text_65\">\r\n      <!-- 81 -->\r\n      <g transform=\"translate(974.650841 474.076094)scale(0.1 -0.1)\">\r\n       <use xlink:href=\"#DejaVuSans-38\"/>\r\n       <use x=\"63.623047\" xlink:href=\"#DejaVuSans-31\"/>\r\n      </g>\r\n     </g>\r\n    </g>\r\n    <g id=\"xtick_66\">\r\n     <g id=\"line2d_66\">\r\n      <g>\r\n       <use style=\"stroke:#000000;stroke-width:0.8;\" x=\"995.321034\" xlink:href=\"#mf8f3bdfc4b\" y=\"459.477656\"/>\r\n      </g>\r\n     </g>\r\n     <g id=\"text_66\">\r\n      <!-- 82 -->\r\n      <g transform=\"translate(988.958534 474.076094)scale(0.1 -0.1)\">\r\n       <use xlink:href=\"#DejaVuSans-38\"/>\r\n       <use x=\"63.623047\" xlink:href=\"#DejaVuSans-32\"/>\r\n      </g>\r\n     </g>\r\n    </g>\r\n    <g id=\"xtick_67\">\r\n     <g id=\"line2d_67\">\r\n      <g>\r\n       <use style=\"stroke:#000000;stroke-width:0.8;\" x=\"1009.628726\" xlink:href=\"#mf8f3bdfc4b\" y=\"459.477656\"/>\r\n      </g>\r\n     </g>\r\n     <g id=\"text_67\">\r\n      <!-- 83 -->\r\n      <g transform=\"translate(1003.266226 474.076094)scale(0.1 -0.1)\">\r\n       <use xlink:href=\"#DejaVuSans-38\"/>\r\n       <use x=\"63.623047\" xlink:href=\"#DejaVuSans-33\"/>\r\n      </g>\r\n     </g>\r\n    </g>\r\n    <g id=\"xtick_68\">\r\n     <g id=\"line2d_68\">\r\n      <g>\r\n       <use style=\"stroke:#000000;stroke-width:0.8;\" x=\"1023.936418\" xlink:href=\"#mf8f3bdfc4b\" y=\"459.477656\"/>\r\n      </g>\r\n     </g>\r\n     <g id=\"text_68\">\r\n      <!-- 84 -->\r\n      <g transform=\"translate(1017.573918 474.076094)scale(0.1 -0.1)\">\r\n       <use xlink:href=\"#DejaVuSans-38\"/>\r\n       <use x=\"63.623047\" xlink:href=\"#DejaVuSans-34\"/>\r\n      </g>\r\n     </g>\r\n    </g>\r\n    <g id=\"xtick_69\">\r\n     <g id=\"line2d_69\">\r\n      <g>\r\n       <use style=\"stroke:#000000;stroke-width:0.8;\" x=\"1038.244111\" xlink:href=\"#mf8f3bdfc4b\" y=\"459.477656\"/>\r\n      </g>\r\n     </g>\r\n     <g id=\"text_69\">\r\n      <!-- 85 -->\r\n      <g transform=\"translate(1031.881611 474.076094)scale(0.1 -0.1)\">\r\n       <use xlink:href=\"#DejaVuSans-38\"/>\r\n       <use x=\"63.623047\" xlink:href=\"#DejaVuSans-35\"/>\r\n      </g>\r\n     </g>\r\n    </g>\r\n    <g id=\"xtick_70\">\r\n     <g id=\"line2d_70\">\r\n      <g>\r\n       <use style=\"stroke:#000000;stroke-width:0.8;\" x=\"1052.551803\" xlink:href=\"#mf8f3bdfc4b\" y=\"459.477656\"/>\r\n      </g>\r\n     </g>\r\n     <g id=\"text_70\">\r\n      <!-- 86 -->\r\n      <g transform=\"translate(1046.189303 474.076094)scale(0.1 -0.1)\">\r\n       <use xlink:href=\"#DejaVuSans-38\"/>\r\n       <use x=\"63.623047\" xlink:href=\"#DejaVuSans-36\"/>\r\n      </g>\r\n     </g>\r\n    </g>\r\n    <g id=\"xtick_71\">\r\n     <g id=\"line2d_71\">\r\n      <g>\r\n       <use style=\"stroke:#000000;stroke-width:0.8;\" x=\"1066.859495\" xlink:href=\"#mf8f3bdfc4b\" y=\"459.477656\"/>\r\n      </g>\r\n     </g>\r\n     <g id=\"text_71\">\r\n      <!-- 87 -->\r\n      <g transform=\"translate(1060.496995 474.076094)scale(0.1 -0.1)\">\r\n       <use xlink:href=\"#DejaVuSans-38\"/>\r\n       <use x=\"63.623047\" xlink:href=\"#DejaVuSans-37\"/>\r\n      </g>\r\n     </g>\r\n    </g>\r\n    <g id=\"xtick_72\">\r\n     <g id=\"line2d_72\">\r\n      <g>\r\n       <use style=\"stroke:#000000;stroke-width:0.8;\" x=\"1081.167187\" xlink:href=\"#mf8f3bdfc4b\" y=\"459.477656\"/>\r\n      </g>\r\n     </g>\r\n     <g id=\"text_72\">\r\n      <!-- 88 -->\r\n      <g transform=\"translate(1074.804688 474.076094)scale(0.1 -0.1)\">\r\n       <use xlink:href=\"#DejaVuSans-38\"/>\r\n       <use x=\"63.623047\" xlink:href=\"#DejaVuSans-38\"/>\r\n      </g>\r\n     </g>\r\n    </g>\r\n    <g id=\"xtick_73\">\r\n     <g id=\"line2d_73\">\r\n      <g>\r\n       <use style=\"stroke:#000000;stroke-width:0.8;\" x=\"1095.47488\" xlink:href=\"#mf8f3bdfc4b\" y=\"459.477656\"/>\r\n      </g>\r\n     </g>\r\n     <g id=\"text_73\">\r\n      <!-- 89 -->\r\n      <g transform=\"translate(1089.11238 474.076094)scale(0.1 -0.1)\">\r\n       <use xlink:href=\"#DejaVuSans-38\"/>\r\n       <use x=\"63.623047\" xlink:href=\"#DejaVuSans-39\"/>\r\n      </g>\r\n     </g>\r\n    </g>\r\n    <g id=\"xtick_74\">\r\n     <g id=\"line2d_74\">\r\n      <g>\r\n       <use style=\"stroke:#000000;stroke-width:0.8;\" x=\"1109.782572\" xlink:href=\"#mf8f3bdfc4b\" y=\"459.477656\"/>\r\n      </g>\r\n     </g>\r\n     <g id=\"text_74\">\r\n      <!-- 91 -->\r\n      <g transform=\"translate(1103.420072 474.076094)scale(0.1 -0.1)\">\r\n       <use xlink:href=\"#DejaVuSans-39\"/>\r\n       <use x=\"63.623047\" xlink:href=\"#DejaVuSans-31\"/>\r\n      </g>\r\n     </g>\r\n    </g>\r\n    <g id=\"xtick_75\">\r\n     <g id=\"line2d_75\">\r\n      <g>\r\n       <use style=\"stroke:#000000;stroke-width:0.8;\" x=\"1124.090264\" xlink:href=\"#mf8f3bdfc4b\" y=\"459.477656\"/>\r\n      </g>\r\n     </g>\r\n     <g id=\"text_75\">\r\n      <!-- 92 -->\r\n      <g transform=\"translate(1117.727764 474.076094)scale(0.1 -0.1)\">\r\n       <use xlink:href=\"#DejaVuSans-39\"/>\r\n       <use x=\"63.623047\" xlink:href=\"#DejaVuSans-32\"/>\r\n      </g>\r\n     </g>\r\n    </g>\r\n    <g id=\"xtick_76\">\r\n     <g id=\"line2d_76\">\r\n      <g>\r\n       <use style=\"stroke:#000000;stroke-width:0.8;\" x=\"1138.397957\" xlink:href=\"#mf8f3bdfc4b\" y=\"459.477656\"/>\r\n      </g>\r\n     </g>\r\n     <g id=\"text_76\">\r\n      <!-- 94 -->\r\n      <g transform=\"translate(1132.035457 474.076094)scale(0.1 -0.1)\">\r\n       <use xlink:href=\"#DejaVuSans-39\"/>\r\n       <use x=\"63.623047\" xlink:href=\"#DejaVuSans-34\"/>\r\n      </g>\r\n     </g>\r\n    </g>\r\n    <g id=\"xtick_77\">\r\n     <g id=\"line2d_77\">\r\n      <g>\r\n       <use style=\"stroke:#000000;stroke-width:0.8;\" x=\"1152.705649\" xlink:href=\"#mf8f3bdfc4b\" y=\"459.477656\"/>\r\n      </g>\r\n     </g>\r\n     <g id=\"text_77\">\r\n      <!-- 95 -->\r\n      <g transform=\"translate(1146.343149 474.076094)scale(0.1 -0.1)\">\r\n       <use xlink:href=\"#DejaVuSans-39\"/>\r\n       <use x=\"63.623047\" xlink:href=\"#DejaVuSans-35\"/>\r\n      </g>\r\n     </g>\r\n    </g>\r\n    <g id=\"xtick_78\">\r\n     <g id=\"line2d_78\">\r\n      <g>\r\n       <use style=\"stroke:#000000;stroke-width:0.8;\" x=\"1167.013341\" xlink:href=\"#mf8f3bdfc4b\" y=\"459.477656\"/>\r\n      </g>\r\n     </g>\r\n     <g id=\"text_78\">\r\n      <!-- 98 -->\r\n      <g transform=\"translate(1160.650841 474.076094)scale(0.1 -0.1)\">\r\n       <use xlink:href=\"#DejaVuSans-39\"/>\r\n       <use x=\"63.623047\" xlink:href=\"#DejaVuSans-38\"/>\r\n      </g>\r\n     </g>\r\n    </g>\r\n    <g id=\"text_79\">\r\n     <!-- Age -->\r\n     <defs>\r\n      <path d=\"M 34.1875 63.1875 \r\nL 20.796875 26.90625 \r\nL 47.609375 26.90625 \r\nz\r\nM 28.609375 72.90625 \r\nL 39.796875 72.90625 \r\nL 67.578125 0 \r\nL 57.328125 0 \r\nL 50.6875 18.703125 \r\nL 17.828125 18.703125 \r\nL 11.1875 0 \r\nL 0.78125 0 \r\nz\r\n\" id=\"DejaVuSans-41\"/>\r\n      <path d=\"M 45.40625 27.984375 \r\nQ 45.40625 37.75 41.375 43.109375 \r\nQ 37.359375 48.484375 30.078125 48.484375 \r\nQ 22.859375 48.484375 18.828125 43.109375 \r\nQ 14.796875 37.75 14.796875 27.984375 \r\nQ 14.796875 18.265625 18.828125 12.890625 \r\nQ 22.859375 7.515625 30.078125 7.515625 \r\nQ 37.359375 7.515625 41.375 12.890625 \r\nQ 45.40625 18.265625 45.40625 27.984375 \r\nz\r\nM 54.390625 6.78125 \r\nQ 54.390625 -7.171875 48.1875 -13.984375 \r\nQ 42 -20.796875 29.203125 -20.796875 \r\nQ 24.46875 -20.796875 20.265625 -20.09375 \r\nQ 16.0625 -19.390625 12.109375 -17.921875 \r\nL 12.109375 -9.1875 \r\nQ 16.0625 -11.328125 19.921875 -12.34375 \r\nQ 23.78125 -13.375 27.78125 -13.375 \r\nQ 36.625 -13.375 41.015625 -8.765625 \r\nQ 45.40625 -4.15625 45.40625 5.171875 \r\nL 45.40625 9.625 \r\nQ 42.625 4.78125 38.28125 2.390625 \r\nQ 33.9375 0 27.875 0 \r\nQ 17.828125 0 11.671875 7.65625 \r\nQ 5.515625 15.328125 5.515625 27.984375 \r\nQ 5.515625 40.671875 11.671875 48.328125 \r\nQ 17.828125 56 27.875 56 \r\nQ 33.9375 56 38.28125 53.609375 \r\nQ 42.625 51.21875 45.40625 46.390625 \r\nL 45.40625 54.6875 \r\nL 54.390625 54.6875 \r\nz\r\n\" id=\"DejaVuSans-67\"/>\r\n      <path d=\"M 56.203125 29.59375 \r\nL 56.203125 25.203125 \r\nL 14.890625 25.203125 \r\nQ 15.484375 15.921875 20.484375 11.0625 \r\nQ 25.484375 6.203125 34.421875 6.203125 \r\nQ 39.59375 6.203125 44.453125 7.46875 \r\nQ 49.3125 8.734375 54.109375 11.28125 \r\nL 54.109375 2.78125 \r\nQ 49.265625 0.734375 44.1875 -0.34375 \r\nQ 39.109375 -1.421875 33.890625 -1.421875 \r\nQ 20.796875 -1.421875 13.15625 6.1875 \r\nQ 5.515625 13.8125 5.515625 26.8125 \r\nQ 5.515625 40.234375 12.765625 48.109375 \r\nQ 20.015625 56 32.328125 56 \r\nQ 43.359375 56 49.78125 48.890625 \r\nQ 56.203125 41.796875 56.203125 29.59375 \r\nz\r\nM 47.21875 32.234375 \r\nQ 47.125 39.59375 43.09375 43.984375 \r\nQ 39.0625 48.390625 32.421875 48.390625 \r\nQ 24.90625 48.390625 20.390625 44.140625 \r\nQ 15.875 39.890625 15.1875 32.171875 \r\nz\r\n\" id=\"DejaVuSans-65\"/>\r\n     </defs>\r\n     <g transform=\"translate(601.660547 491.553437)scale(0.15 -0.15)\">\r\n      <use xlink:href=\"#DejaVuSans-41\"/>\r\n      <use x=\"68.408203\" xlink:href=\"#DejaVuSans-67\"/>\r\n      <use x=\"131.884766\" xlink:href=\"#DejaVuSans-65\"/>\r\n     </g>\r\n    </g>\r\n   </g>\r\n   <g id=\"matplotlib.axis_2\">\r\n    <g id=\"ytick_1\">\r\n     <g id=\"line2d_79\">\r\n      <defs>\r\n       <path d=\"M 0 0 \r\nL -3.5 0 \r\n\" id=\"mfd1c7291d5\" style=\"stroke:#000000;stroke-width:0.8;\"/>\r\n      </defs>\r\n      <g>\r\n       <use style=\"stroke:#000000;stroke-width:0.8;\" x=\"58.167188\" xlink:href=\"#mfd1c7291d5\" y=\"459.477656\"/>\r\n      </g>\r\n     </g>\r\n     <g id=\"text_80\">\r\n      <!-- 0 -->\r\n      <g transform=\"translate(44.804688 463.276875)scale(0.1 -0.1)\">\r\n       <use xlink:href=\"#DejaVuSans-30\"/>\r\n      </g>\r\n     </g>\r\n    </g>\r\n    <g id=\"ytick_2\">\r\n     <g id=\"line2d_80\">\r\n      <g>\r\n       <use style=\"stroke:#000000;stroke-width:0.8;\" x=\"58.167188\" xlink:href=\"#mfd1c7291d5\" y=\"406.296939\"/>\r\n      </g>\r\n     </g>\r\n     <g id=\"text_81\">\r\n      <!-- 250 -->\r\n      <g transform=\"translate(32.079688 410.096157)scale(0.1 -0.1)\">\r\n       <use xlink:href=\"#DejaVuSans-32\"/>\r\n       <use x=\"63.623047\" xlink:href=\"#DejaVuSans-35\"/>\r\n       <use x=\"127.246094\" xlink:href=\"#DejaVuSans-30\"/>\r\n      </g>\r\n     </g>\r\n    </g>\r\n    <g id=\"ytick_3\">\r\n     <g id=\"line2d_81\">\r\n      <g>\r\n       <use style=\"stroke:#000000;stroke-width:0.8;\" x=\"58.167188\" xlink:href=\"#mfd1c7291d5\" y=\"353.116221\"/>\r\n      </g>\r\n     </g>\r\n     <g id=\"text_82\">\r\n      <!-- 500 -->\r\n      <g transform=\"translate(32.079688 356.91544)scale(0.1 -0.1)\">\r\n       <use xlink:href=\"#DejaVuSans-35\"/>\r\n       <use x=\"63.623047\" xlink:href=\"#DejaVuSans-30\"/>\r\n       <use x=\"127.246094\" xlink:href=\"#DejaVuSans-30\"/>\r\n      </g>\r\n     </g>\r\n    </g>\r\n    <g id=\"ytick_4\">\r\n     <g id=\"line2d_82\">\r\n      <g>\r\n       <use style=\"stroke:#000000;stroke-width:0.8;\" x=\"58.167188\" xlink:href=\"#mfd1c7291d5\" y=\"299.935503\"/>\r\n      </g>\r\n     </g>\r\n     <g id=\"text_83\">\r\n      <!-- 750 -->\r\n      <g transform=\"translate(32.079688 303.734722)scale(0.1 -0.1)\">\r\n       <use xlink:href=\"#DejaVuSans-37\"/>\r\n       <use x=\"63.623047\" xlink:href=\"#DejaVuSans-35\"/>\r\n       <use x=\"127.246094\" xlink:href=\"#DejaVuSans-30\"/>\r\n      </g>\r\n     </g>\r\n    </g>\r\n    <g id=\"ytick_5\">\r\n     <g id=\"line2d_83\">\r\n      <g>\r\n       <use style=\"stroke:#000000;stroke-width:0.8;\" x=\"58.167188\" xlink:href=\"#mfd1c7291d5\" y=\"246.754786\"/>\r\n      </g>\r\n     </g>\r\n     <g id=\"text_84\">\r\n      <!-- 1000 -->\r\n      <g transform=\"translate(25.717188 250.554005)scale(0.1 -0.1)\">\r\n       <use xlink:href=\"#DejaVuSans-31\"/>\r\n       <use x=\"63.623047\" xlink:href=\"#DejaVuSans-30\"/>\r\n       <use x=\"127.246094\" xlink:href=\"#DejaVuSans-30\"/>\r\n       <use x=\"190.869141\" xlink:href=\"#DejaVuSans-30\"/>\r\n      </g>\r\n     </g>\r\n    </g>\r\n    <g id=\"ytick_6\">\r\n     <g id=\"line2d_84\">\r\n      <g>\r\n       <use style=\"stroke:#000000;stroke-width:0.8;\" x=\"58.167188\" xlink:href=\"#mfd1c7291d5\" y=\"193.574068\"/>\r\n      </g>\r\n     </g>\r\n     <g id=\"text_85\">\r\n      <!-- 1250 -->\r\n      <g transform=\"translate(25.717188 197.373287)scale(0.1 -0.1)\">\r\n       <use xlink:href=\"#DejaVuSans-31\"/>\r\n       <use x=\"63.623047\" xlink:href=\"#DejaVuSans-32\"/>\r\n       <use x=\"127.246094\" xlink:href=\"#DejaVuSans-35\"/>\r\n       <use x=\"190.869141\" xlink:href=\"#DejaVuSans-30\"/>\r\n      </g>\r\n     </g>\r\n    </g>\r\n    <g id=\"ytick_7\">\r\n     <g id=\"line2d_85\">\r\n      <g>\r\n       <use style=\"stroke:#000000;stroke-width:0.8;\" x=\"58.167188\" xlink:href=\"#mfd1c7291d5\" y=\"140.393351\"/>\r\n      </g>\r\n     </g>\r\n     <g id=\"text_86\">\r\n      <!-- 1500 -->\r\n      <g transform=\"translate(25.717188 144.192569)scale(0.1 -0.1)\">\r\n       <use xlink:href=\"#DejaVuSans-31\"/>\r\n       <use x=\"63.623047\" xlink:href=\"#DejaVuSans-35\"/>\r\n       <use x=\"127.246094\" xlink:href=\"#DejaVuSans-30\"/>\r\n       <use x=\"190.869141\" xlink:href=\"#DejaVuSans-30\"/>\r\n      </g>\r\n     </g>\r\n    </g>\r\n    <g id=\"ytick_8\">\r\n     <g id=\"line2d_86\">\r\n      <g>\r\n       <use style=\"stroke:#000000;stroke-width:0.8;\" x=\"58.167188\" xlink:href=\"#mfd1c7291d5\" y=\"87.212633\"/>\r\n      </g>\r\n     </g>\r\n     <g id=\"text_87\">\r\n      <!-- 1750 -->\r\n      <g transform=\"translate(25.717188 91.011852)scale(0.1 -0.1)\">\r\n       <use xlink:href=\"#DejaVuSans-31\"/>\r\n       <use x=\"63.623047\" xlink:href=\"#DejaVuSans-37\"/>\r\n       <use x=\"127.246094\" xlink:href=\"#DejaVuSans-35\"/>\r\n       <use x=\"190.869141\" xlink:href=\"#DejaVuSans-30\"/>\r\n      </g>\r\n     </g>\r\n    </g>\r\n    <g id=\"ytick_9\">\r\n     <g id=\"line2d_87\">\r\n      <g>\r\n       <use style=\"stroke:#000000;stroke-width:0.8;\" x=\"58.167188\" xlink:href=\"#mfd1c7291d5\" y=\"34.031916\"/>\r\n      </g>\r\n     </g>\r\n     <g id=\"text_88\">\r\n      <!-- 2000 -->\r\n      <g transform=\"translate(25.717188 37.831134)scale(0.1 -0.1)\">\r\n       <use xlink:href=\"#DejaVuSans-32\"/>\r\n       <use x=\"63.623047\" xlink:href=\"#DejaVuSans-30\"/>\r\n       <use x=\"127.246094\" xlink:href=\"#DejaVuSans-30\"/>\r\n       <use x=\"190.869141\" xlink:href=\"#DejaVuSans-30\"/>\r\n      </g>\r\n     </g>\r\n    </g>\r\n    <g id=\"text_89\">\r\n     <!-- Count -->\r\n     <defs>\r\n      <path d=\"M 64.40625 67.28125 \r\nL 64.40625 56.890625 \r\nQ 59.421875 61.53125 53.78125 63.8125 \r\nQ 48.140625 66.109375 41.796875 66.109375 \r\nQ 29.296875 66.109375 22.65625 58.46875 \r\nQ 16.015625 50.828125 16.015625 36.375 \r\nQ 16.015625 21.96875 22.65625 14.328125 \r\nQ 29.296875 6.6875 41.796875 6.6875 \r\nQ 48.140625 6.6875 53.78125 8.984375 \r\nQ 59.421875 11.28125 64.40625 15.921875 \r\nL 64.40625 5.609375 \r\nQ 59.234375 2.09375 53.4375 0.328125 \r\nQ 47.65625 -1.421875 41.21875 -1.421875 \r\nQ 24.65625 -1.421875 15.125 8.703125 \r\nQ 5.609375 18.84375 5.609375 36.375 \r\nQ 5.609375 53.953125 15.125 64.078125 \r\nQ 24.65625 74.21875 41.21875 74.21875 \r\nQ 47.75 74.21875 53.53125 72.484375 \r\nQ 59.328125 70.75 64.40625 67.28125 \r\nz\r\n\" id=\"DejaVuSans-43\"/>\r\n      <path d=\"M 30.609375 48.390625 \r\nQ 23.390625 48.390625 19.1875 42.75 \r\nQ 14.984375 37.109375 14.984375 27.296875 \r\nQ 14.984375 17.484375 19.15625 11.84375 \r\nQ 23.34375 6.203125 30.609375 6.203125 \r\nQ 37.796875 6.203125 41.984375 11.859375 \r\nQ 46.1875 17.53125 46.1875 27.296875 \r\nQ 46.1875 37.015625 41.984375 42.703125 \r\nQ 37.796875 48.390625 30.609375 48.390625 \r\nz\r\nM 30.609375 56 \r\nQ 42.328125 56 49.015625 48.375 \r\nQ 55.71875 40.765625 55.71875 27.296875 \r\nQ 55.71875 13.875 49.015625 6.21875 \r\nQ 42.328125 -1.421875 30.609375 -1.421875 \r\nQ 18.84375 -1.421875 12.171875 6.21875 \r\nQ 5.515625 13.875 5.515625 27.296875 \r\nQ 5.515625 40.765625 12.171875 48.375 \r\nQ 18.84375 56 30.609375 56 \r\nz\r\n\" id=\"DejaVuSans-6f\"/>\r\n      <path d=\"M 8.5 21.578125 \r\nL 8.5 54.6875 \r\nL 17.484375 54.6875 \r\nL 17.484375 21.921875 \r\nQ 17.484375 14.15625 20.5 10.265625 \r\nQ 23.53125 6.390625 29.59375 6.390625 \r\nQ 36.859375 6.390625 41.078125 11.03125 \r\nQ 45.3125 15.671875 45.3125 23.6875 \r\nL 45.3125 54.6875 \r\nL 54.296875 54.6875 \r\nL 54.296875 0 \r\nL 45.3125 0 \r\nL 45.3125 8.40625 \r\nQ 42.046875 3.421875 37.71875 1 \r\nQ 33.40625 -1.421875 27.6875 -1.421875 \r\nQ 18.265625 -1.421875 13.375 4.4375 \r\nQ 8.5 10.296875 8.5 21.578125 \r\nz\r\nM 31.109375 56 \r\nz\r\n\" id=\"DejaVuSans-75\"/>\r\n      <path d=\"M 54.890625 33.015625 \r\nL 54.890625 0 \r\nL 45.90625 0 \r\nL 45.90625 32.71875 \r\nQ 45.90625 40.484375 42.875 44.328125 \r\nQ 39.84375 48.1875 33.796875 48.1875 \r\nQ 26.515625 48.1875 22.3125 43.546875 \r\nQ 18.109375 38.921875 18.109375 30.90625 \r\nL 18.109375 0 \r\nL 9.078125 0 \r\nL 9.078125 54.6875 \r\nL 18.109375 54.6875 \r\nL 18.109375 46.1875 \r\nQ 21.34375 51.125 25.703125 53.5625 \r\nQ 30.078125 56 35.796875 56 \r\nQ 45.21875 56 50.046875 50.171875 \r\nQ 54.890625 44.34375 54.890625 33.015625 \r\nz\r\n\" id=\"DejaVuSans-6e\"/>\r\n      <path d=\"M 18.3125 70.21875 \r\nL 18.3125 54.6875 \r\nL 36.8125 54.6875 \r\nL 36.8125 47.703125 \r\nL 18.3125 47.703125 \r\nL 18.3125 18.015625 \r\nQ 18.3125 11.328125 20.140625 9.421875 \r\nQ 21.96875 7.515625 27.59375 7.515625 \r\nL 36.8125 7.515625 \r\nL 36.8125 0 \r\nL 27.59375 0 \r\nQ 17.1875 0 13.234375 3.875 \r\nQ 9.28125 7.765625 9.28125 18.015625 \r\nL 9.28125 47.703125 \r\nL 2.6875 47.703125 \r\nL 2.6875 54.6875 \r\nL 9.28125 54.6875 \r\nL 9.28125 70.21875 \r\nz\r\n\" id=\"DejaVuSans-74\"/>\r\n     </defs>\r\n     <g transform=\"translate(18.597656 264.310312)rotate(-90)scale(0.15 -0.15)\">\r\n      <use xlink:href=\"#DejaVuSans-43\"/>\r\n      <use x=\"69.824219\" xlink:href=\"#DejaVuSans-6f\"/>\r\n      <use x=\"131.005859\" xlink:href=\"#DejaVuSans-75\"/>\r\n      <use x=\"194.384766\" xlink:href=\"#DejaVuSans-6e\"/>\r\n      <use x=\"257.763672\" xlink:href=\"#DejaVuSans-74\"/>\r\n     </g>\r\n    </g>\r\n   </g>\r\n   <g id=\"patch_81\">\r\n    <path d=\"M 58.167188 459.477656 \r\nL 58.167188 24.597656 \r\n\" style=\"fill:none;stroke:#000000;stroke-linecap:square;stroke-linejoin:miter;stroke-width:0.8;\"/>\r\n   </g>\r\n   <g id=\"patch_82\">\r\n    <path d=\"M 58.167188 459.477656 \r\nL 1174.167187 459.477656 \r\n\" style=\"fill:none;stroke:#000000;stroke-linecap:square;stroke-linejoin:miter;stroke-width:0.8;\"/>\r\n   </g>\r\n   <g id=\"text_90\">\r\n    <!-- Age Count Distribution -->\r\n    <defs>\r\n     <path id=\"DejaVuSans-20\"/>\r\n     <path d=\"M 19.671875 64.796875 \r\nL 19.671875 8.109375 \r\nL 31.59375 8.109375 \r\nQ 46.6875 8.109375 53.6875 14.9375 \r\nQ 60.6875 21.78125 60.6875 36.53125 \r\nQ 60.6875 51.171875 53.6875 57.984375 \r\nQ 46.6875 64.796875 31.59375 64.796875 \r\nz\r\nM 9.8125 72.90625 \r\nL 30.078125 72.90625 \r\nQ 51.265625 72.90625 61.171875 64.09375 \r\nQ 71.09375 55.28125 71.09375 36.53125 \r\nQ 71.09375 17.671875 61.125 8.828125 \r\nQ 51.171875 0 30.078125 0 \r\nL 9.8125 0 \r\nz\r\n\" id=\"DejaVuSans-44\"/>\r\n     <path d=\"M 9.421875 54.6875 \r\nL 18.40625 54.6875 \r\nL 18.40625 0 \r\nL 9.421875 0 \r\nz\r\nM 9.421875 75.984375 \r\nL 18.40625 75.984375 \r\nL 18.40625 64.59375 \r\nL 9.421875 64.59375 \r\nz\r\n\" id=\"DejaVuSans-69\"/>\r\n     <path d=\"M 44.28125 53.078125 \r\nL 44.28125 44.578125 \r\nQ 40.484375 46.53125 36.375 47.5 \r\nQ 32.28125 48.484375 27.875 48.484375 \r\nQ 21.1875 48.484375 17.84375 46.4375 \r\nQ 14.5 44.390625 14.5 40.28125 \r\nQ 14.5 37.15625 16.890625 35.375 \r\nQ 19.28125 33.59375 26.515625 31.984375 \r\nL 29.59375 31.296875 \r\nQ 39.15625 29.25 43.1875 25.515625 \r\nQ 47.21875 21.78125 47.21875 15.09375 \r\nQ 47.21875 7.46875 41.1875 3.015625 \r\nQ 35.15625 -1.421875 24.609375 -1.421875 \r\nQ 20.21875 -1.421875 15.453125 -0.5625 \r\nQ 10.6875 0.296875 5.421875 2 \r\nL 5.421875 11.28125 \r\nQ 10.40625 8.6875 15.234375 7.390625 \r\nQ 20.0625 6.109375 24.8125 6.109375 \r\nQ 31.15625 6.109375 34.5625 8.28125 \r\nQ 37.984375 10.453125 37.984375 14.40625 \r\nQ 37.984375 18.0625 35.515625 20.015625 \r\nQ 33.0625 21.96875 24.703125 23.78125 \r\nL 21.578125 24.515625 \r\nQ 13.234375 26.265625 9.515625 29.90625 \r\nQ 5.8125 33.546875 5.8125 39.890625 \r\nQ 5.8125 47.609375 11.28125 51.796875 \r\nQ 16.75 56 26.8125 56 \r\nQ 31.78125 56 36.171875 55.265625 \r\nQ 40.578125 54.546875 44.28125 53.078125 \r\nz\r\n\" id=\"DejaVuSans-73\"/>\r\n     <path d=\"M 41.109375 46.296875 \r\nQ 39.59375 47.171875 37.8125 47.578125 \r\nQ 36.03125 48 33.890625 48 \r\nQ 26.265625 48 22.1875 43.046875 \r\nQ 18.109375 38.09375 18.109375 28.8125 \r\nL 18.109375 0 \r\nL 9.078125 0 \r\nL 9.078125 54.6875 \r\nL 18.109375 54.6875 \r\nL 18.109375 46.1875 \r\nQ 20.953125 51.171875 25.484375 53.578125 \r\nQ 30.03125 56 36.53125 56 \r\nQ 37.453125 56 38.578125 55.875 \r\nQ 39.703125 55.765625 41.0625 55.515625 \r\nz\r\n\" id=\"DejaVuSans-72\"/>\r\n     <path d=\"M 48.6875 27.296875 \r\nQ 48.6875 37.203125 44.609375 42.84375 \r\nQ 40.53125 48.484375 33.40625 48.484375 \r\nQ 26.265625 48.484375 22.1875 42.84375 \r\nQ 18.109375 37.203125 18.109375 27.296875 \r\nQ 18.109375 17.390625 22.1875 11.75 \r\nQ 26.265625 6.109375 33.40625 6.109375 \r\nQ 40.53125 6.109375 44.609375 11.75 \r\nQ 48.6875 17.390625 48.6875 27.296875 \r\nz\r\nM 18.109375 46.390625 \r\nQ 20.953125 51.265625 25.265625 53.625 \r\nQ 29.59375 56 35.59375 56 \r\nQ 45.5625 56 51.78125 48.09375 \r\nQ 58.015625 40.1875 58.015625 27.296875 \r\nQ 58.015625 14.40625 51.78125 6.484375 \r\nQ 45.5625 -1.421875 35.59375 -1.421875 \r\nQ 29.59375 -1.421875 25.265625 0.953125 \r\nQ 20.953125 3.328125 18.109375 8.203125 \r\nL 18.109375 0 \r\nL 9.078125 0 \r\nL 9.078125 75.984375 \r\nL 18.109375 75.984375 \r\nz\r\n\" id=\"DejaVuSans-62\"/>\r\n    </defs>\r\n    <g transform=\"translate(530.867578 18.597656)scale(0.15 -0.15)\">\r\n     <use xlink:href=\"#DejaVuSans-41\"/>\r\n     <use x=\"68.408203\" xlink:href=\"#DejaVuSans-67\"/>\r\n     <use x=\"131.884766\" xlink:href=\"#DejaVuSans-65\"/>\r\n     <use x=\"193.408203\" xlink:href=\"#DejaVuSans-20\"/>\r\n     <use x=\"225.195312\" xlink:href=\"#DejaVuSans-43\"/>\r\n     <use x=\"295.019531\" xlink:href=\"#DejaVuSans-6f\"/>\r\n     <use x=\"356.201172\" xlink:href=\"#DejaVuSans-75\"/>\r\n     <use x=\"419.580078\" xlink:href=\"#DejaVuSans-6e\"/>\r\n     <use x=\"482.958984\" xlink:href=\"#DejaVuSans-74\"/>\r\n     <use x=\"522.167969\" xlink:href=\"#DejaVuSans-20\"/>\r\n     <use x=\"553.955078\" xlink:href=\"#DejaVuSans-44\"/>\r\n     <use x=\"630.957031\" xlink:href=\"#DejaVuSans-69\"/>\r\n     <use x=\"658.740234\" xlink:href=\"#DejaVuSans-73\"/>\r\n     <use x=\"710.839844\" xlink:href=\"#DejaVuSans-74\"/>\r\n     <use x=\"750.048828\" xlink:href=\"#DejaVuSans-72\"/>\r\n     <use x=\"791.162109\" xlink:href=\"#DejaVuSans-69\"/>\r\n     <use x=\"818.945312\" xlink:href=\"#DejaVuSans-62\"/>\r\n     <use x=\"882.421875\" xlink:href=\"#DejaVuSans-75\"/>\r\n     <use x=\"945.800781\" xlink:href=\"#DejaVuSans-74\"/>\r\n     <use x=\"985.009766\" xlink:href=\"#DejaVuSans-69\"/>\r\n     <use x=\"1012.792969\" xlink:href=\"#DejaVuSans-6f\"/>\r\n     <use x=\"1073.974609\" xlink:href=\"#DejaVuSans-6e\"/>\r\n    </g>\r\n   </g>\r\n  </g>\r\n </g>\r\n <defs>\r\n  <clipPath id=\"p2c23ebdbdd\">\r\n   <rect height=\"434.88\" width=\"1116\" x=\"58.167188\" y=\"24.597656\"/>\r\n  </clipPath>\r\n </defs>\r\n</svg>\r\n",
      "image/png": "[encoded data removed]"
     },
     "metadata": {}
    }
   ],
   "source": [
    "fig, ax = plt.subplots()\n",
    "fig.set_size_inches(20, 8)\n",
    "sns.countplot(x = 'age', data = bank_client)\n",
    "ax.set_xlabel('Age', fontsize=15)\n",
    "ax.set_ylabel('Count', fontsize=15)\n",
    "ax.set_title('Age Count Distribution', fontsize=15)\n",
    "sns.despine()\n"
   ]
  },
  {
   "cell_type": "code",
   "execution_count": 6,
   "metadata": {},
   "outputs": [
    {
     "output_type": "stream",
     "name": "stdout",
     "text": [
      "Housing:\n No to personal loan: 33950 \n Unknown to personal loan: 990 \n Yes to personal loan: 6248\n"
     ]
    }
   ],
   "source": [
    "print('Housing:\\n No to personal loan:'     , bank_client[bank_client['loan'] == 'no']['age'].count(),\n",
    "              '\\n Unknown to personal loan:', bank_client[bank_client['loan'] == 'unknown']['age'].count(),\n",
    "              '\\n Yes to personal loan:'    , bank_client[bank_client['loan'] == 'yes']    ['age'].count())"
   ]
  },
  {
   "cell_type": "code",
   "execution_count": 7,
   "metadata": {},
   "outputs": [
    {
     "output_type": "stream",
     "name": "stdout",
     "text": [
      "(12,)\n[ 1  2  3  4  5  6  7  8  9 10 11 12]\n(41188, 7)\n"
     ]
    },
    {
     "output_type": "execute_result",
     "data": {
      "text/plain": [
       "   age  job  marital    education  default housing loan\n",
       "0   56    1  married     basic.4y       no      no   no\n",
       "1   57    2  married  high.school  unknown      no   no\n",
       "2   37    2  married  high.school       no     yes   no\n",
       "3   40    3  married     basic.6y       no      no   no\n",
       "4   56    2  married  high.school       no      no  yes"
      ],
      "text/html": "<div>\n<style>\n    .dataframe thead tr:only-child th {\n        text-align: right;\n    }\n\n    .dataframe thead th {\n        text-align: left;\n    }\n\n    .dataframe tbody tr th {\n        vertical-align: top;\n    }\n</style>\n<table border=\"1\" class=\"dataframe\">\n  <thead>\n    <tr style=\"text-align: right;\">\n      <th></th>\n      <th>age</th>\n      <th>job</th>\n      <th>marital</th>\n      <th>education</th>\n      <th>default</th>\n      <th>housing</th>\n      <th>loan</th>\n    </tr>\n  </thead>\n  <tbody>\n    <tr>\n      <th>0</th>\n      <td>56</td>\n      <td>1</td>\n      <td>married</td>\n      <td>basic.4y</td>\n      <td>no</td>\n      <td>no</td>\n      <td>no</td>\n    </tr>\n    <tr>\n      <th>1</th>\n      <td>57</td>\n      <td>2</td>\n      <td>married</td>\n      <td>high.school</td>\n      <td>unknown</td>\n      <td>no</td>\n      <td>no</td>\n    </tr>\n    <tr>\n      <th>2</th>\n      <td>37</td>\n      <td>2</td>\n      <td>married</td>\n      <td>high.school</td>\n      <td>no</td>\n      <td>yes</td>\n      <td>no</td>\n    </tr>\n    <tr>\n      <th>3</th>\n      <td>40</td>\n      <td>3</td>\n      <td>married</td>\n      <td>basic.6y</td>\n      <td>no</td>\n      <td>no</td>\n      <td>no</td>\n    </tr>\n    <tr>\n      <th>4</th>\n      <td>56</td>\n      <td>2</td>\n      <td>married</td>\n      <td>high.school</td>\n      <td>no</td>\n      <td>no</td>\n      <td>yes</td>\n    </tr>\n  </tbody>\n</table>\n</div>"
     },
     "metadata": {},
     "execution_count": 7
    }
   ],
   "source": [
    "bank_client = bank.iloc[:,0:7]\n",
    "print(bank_client['job'].unique().shape)\n",
    "print(np.arange(1,bank_client['job'].unique().shape[0]+1))\n",
    "bank_client['job'].replace(bank_client['job'].unique(), np.arange(1,bank_client['job'].unique().shape[0]+1), inplace=True)\n",
    "print(bank_client.shape)\n",
    "bank_client.head()\n"
   ]
  },
  {
   "source": [
    "# 对string类型的标签进行编码"
   ],
   "cell_type": "markdown",
   "metadata": {}
  },
  {
   "cell_type": "code",
   "execution_count": 18,
   "metadata": {},
   "outputs": [
    {
     "output_type": "execute_result",
     "data": {
      "text/plain": [
       "   age  job  marital  education  default  housing  loan  contact  month  \\\n",
       "0    1    1        1          1        1        1     1        1      1   \n",
       "1    1    2        1          2        2        1     1        1      1   \n",
       "2    1    2        1          2        1        2     1        1      1   \n",
       "3    1    3        1          3        1        1     1        1      1   \n",
       "4    1    2        1          2        1        1     2        1      1   \n",
       "\n",
       "   day_of_week ...  campaign  pdays  previous  poutcome  emp.var.rate  \\\n",
       "0            1 ...         1      1         1         1           1.1   \n",
       "1            1 ...         1      1         1         1           1.1   \n",
       "2            1 ...         1      1         1         1           1.1   \n",
       "3            1 ...         1      1         1         1           1.1   \n",
       "4            1 ...         1      1         1         1           1.1   \n",
       "\n",
       "   cons.price.idx  cons.conf.idx  euribor3m  nr.employed  y  \n",
       "0          93.994          -36.4      4.857       5191.0 -1  \n",
       "1          93.994          -36.4      4.857       5191.0 -1  \n",
       "2          93.994          -36.4      4.857       5191.0 -1  \n",
       "3          93.994          -36.4      4.857       5191.0 -1  \n",
       "4          93.994          -36.4      4.857       5191.0 -1  \n",
       "\n",
       "[5 rows x 21 columns]"
      ],
      "text/html": "<div>\n<style>\n    .dataframe thead tr:only-child th {\n        text-align: right;\n    }\n\n    .dataframe thead th {\n        text-align: left;\n    }\n\n    .dataframe tbody tr th {\n        vertical-align: top;\n    }\n</style>\n<table border=\"1\" class=\"dataframe\">\n  <thead>\n    <tr style=\"text-align: right;\">\n      <th></th>\n      <th>age</th>\n      <th>job</th>\n      <th>marital</th>\n      <th>education</th>\n      <th>default</th>\n      <th>housing</th>\n      <th>loan</th>\n      <th>contact</th>\n      <th>month</th>\n      <th>day_of_week</th>\n      <th>...</th>\n      <th>campaign</th>\n      <th>pdays</th>\n      <th>previous</th>\n      <th>poutcome</th>\n      <th>emp.var.rate</th>\n      <th>cons.price.idx</th>\n      <th>cons.conf.idx</th>\n      <th>euribor3m</th>\n      <th>nr.employed</th>\n      <th>y</th>\n    </tr>\n  </thead>\n  <tbody>\n    <tr>\n      <th>0</th>\n      <td>1</td>\n      <td>1</td>\n      <td>1</td>\n      <td>1</td>\n      <td>1</td>\n      <td>1</td>\n      <td>1</td>\n      <td>1</td>\n      <td>1</td>\n      <td>1</td>\n      <td>...</td>\n      <td>1</td>\n      <td>1</td>\n      <td>1</td>\n      <td>1</td>\n      <td>1.1</td>\n      <td>93.994</td>\n      <td>-36.4</td>\n      <td>4.857</td>\n      <td>5191.0</td>\n      <td>-1</td>\n    </tr>\n    <tr>\n      <th>1</th>\n      <td>1</td>\n      <td>2</td>\n      <td>1</td>\n      <td>2</td>\n      <td>2</td>\n      <td>1</td>\n      <td>1</td>\n      <td>1</td>\n      <td>1</td>\n      <td>1</td>\n      <td>...</td>\n      <td>1</td>\n      <td>1</td>\n      <td>1</td>\n      <td>1</td>\n      <td>1.1</td>\n      <td>93.994</td>\n      <td>-36.4</td>\n      <td>4.857</td>\n      <td>5191.0</td>\n      <td>-1</td>\n    </tr>\n    <tr>\n      <th>2</th>\n      <td>1</td>\n      <td>2</td>\n      <td>1</td>\n      <td>2</td>\n      <td>1</td>\n      <td>2</td>\n      <td>1</td>\n      <td>1</td>\n      <td>1</td>\n      <td>1</td>\n      <td>...</td>\n      <td>1</td>\n      <td>1</td>\n      <td>1</td>\n      <td>1</td>\n      <td>1.1</td>\n      <td>93.994</td>\n      <td>-36.4</td>\n      <td>4.857</td>\n      <td>5191.0</td>\n      <td>-1</td>\n    </tr>\n    <tr>\n      <th>3</th>\n      <td>1</td>\n      <td>3</td>\n      <td>1</td>\n      <td>3</td>\n      <td>1</td>\n      <td>1</td>\n      <td>1</td>\n      <td>1</td>\n      <td>1</td>\n      <td>1</td>\n      <td>...</td>\n      <td>1</td>\n      <td>1</td>\n      <td>1</td>\n      <td>1</td>\n      <td>1.1</td>\n      <td>93.994</td>\n      <td>-36.4</td>\n      <td>4.857</td>\n      <td>5191.0</td>\n      <td>-1</td>\n    </tr>\n    <tr>\n      <th>4</th>\n      <td>1</td>\n      <td>2</td>\n      <td>1</td>\n      <td>2</td>\n      <td>1</td>\n      <td>1</td>\n      <td>2</td>\n      <td>1</td>\n      <td>1</td>\n      <td>1</td>\n      <td>...</td>\n      <td>1</td>\n      <td>1</td>\n      <td>1</td>\n      <td>1</td>\n      <td>1.1</td>\n      <td>93.994</td>\n      <td>-36.4</td>\n      <td>4.857</td>\n      <td>5191.0</td>\n      <td>-1</td>\n    </tr>\n  </tbody>\n</table>\n<p>5 rows × 21 columns</p>\n</div>"
     },
     "metadata": {},
     "execution_count": 18
    }
   ],
   "source": [
    "def Encoder_X(data):\n",
    "    Attribute_Array = np.array(['age','job','marital','education','default','housing','loan','contact','month','day_of_week','campaign','pdays','previous','poutcome'])\n",
    "    for i in range(0,Attribute_Array.shape[0]):\n",
    "        data[Attribute_Array[i]].replace(data[Attribute_Array[i]].unique(), np.arange(1,data[Attribute_Array[i]].unique().shape[0]+1), inplace=True)\n",
    "    data['y'].replace(['yes','no'],[1,-1],inplace=True)\n",
    "    return data\n",
    "def age(dataframe):\n",
    "    dataframe.loc[dataframe['age'] <= 32, 'age'] = 1\n",
    "    dataframe.loc[(dataframe['age'] > 32) & (dataframe['age'] <= 47), 'age'] = 2\n",
    "    dataframe.loc[(dataframe['age'] > 47) & (dataframe['age'] <= 70), 'age'] = 3\n",
    "    dataframe.loc[(dataframe['age'] > 70) & (dataframe['age'] <= 98), 'age'] = 4\n",
    "           \n",
    "    return dataframe\n",
    "bank = pd.read_csv('data/bank-additional-full.csv',sep=',')\n",
    "encoder_bank = Encoder_X(bank)\n",
    "encoder_bank = age(encoder_bank)\n",
    "all_value = encoder_bank.values\n",
    "encoder_bank.head()"
   ]
  },
  {
   "cell_type": "code",
   "execution_count": 20,
   "metadata": {},
   "outputs": [
    {
     "output_type": "stream",
     "name": "stdout",
     "text": [
      "col:0,max:4.00,min:1.00\ncol:1,max:12.00,min:1.00\ncol:2,max:4.00,min:1.00\ncol:3,max:8.00,min:1.00\ncol:4,max:3.00,min:1.00\ncol:5,max:3.00,min:1.00\ncol:6,max:3.00,min:1.00\ncol:7,max:2.00,min:1.00\ncol:8,max:10.00,min:1.00\ncol:9,max:5.00,min:1.00\ncol:10,max:42.00,min:1.00\ncol:11,max:27.00,min:1.00\ncol:12,max:8.00,min:1.00\ncol:13,max:3.00,min:1.00\ncol:14,max:1.40,min:-3.40\ncol:15,max:94.77,min:92.20\ncol:16,max:-26.90,min:-50.80\ncol:17,max:5.04,min:0.63\ncol:18,max:5228.10,min:4963.60\ncol:19,max:1.00,min:-1.00\n"
     ]
    }
   ],
   "source": [
    "bank_data_noDuration = np.delete(all_value,10,axis=1)\n",
    "for i in range(0,bank_data_noDuration.shape[1]):\n",
    "    data = bank_data_noDuration[:,i]\n",
    "    print(\"col:{:d},max:{:.2f},min:{:.2f}\".format(i,np.max(data),np.min(data)))"
   ]
  },
  {
   "cell_type": "code",
   "execution_count": 10,
   "metadata": {},
   "outputs": [],
   "source": [
    "#define Kernel function \n",
    "def K_linear(x1,x2):\n",
    "    return np.dot(x1,x2.T)[0,0]\n",
    "a = np.mat(np.array([1,2,4,2,4,6,9,3,10,12,1,23,2]))\n",
    "c1 = np.argwhere(a<4)[:,1]\n",
    "c2 = np.argwhere((a>=4)&(a<=10))[:,1]\n",
    "c3 = np.argwhere(a>10)[:,1]\n",
    "d = [c1,c2,c3]\n",
    "def get_ai_list(data,a,b,C):\n",
    "    list_a = []\n",
    "    y_all = data[:,-1]\n",
    "    c1 = np.argwhere(a==0)[:,0]\n",
    "    c2 = np.argwhere((a>0)&(a<C))[:,0]\n",
    "    c3 = np.argwhere(a==C)[:,0]\n",
    "    for i in c2:\n",
    "        y_hat=np.dot(np.dot(np.multiply(a,y_all).T,data[:,0:-1]),data[i,0:-1].T)+b\n",
    "        if abs(y_all[i]*y_hat-1)>1e-3:\n",
    "            list_a.append(i)\n",
    "    for i in c1:\n",
    "        y_hat=np.dot(np.dot(np.multiply(a,y_all).T,data[:,0:-1]),data[i,0:-1].T)+b\n",
    "        if y_all[i]*y_hat<1-1e-3:\n",
    "            list_a.append(i)\n",
    "    for i in c3:\n",
    "        y_hat=np.dot(np.dot(np.multiply(a,y_all).T,data[:,0:-1]),data[i,0:-1].T)+b\n",
    "        if y_all[i]*y_hat>1+1e-3:\n",
    "            list_a.append(i)\n",
    "    \n",
    "    return list_a\n",
    "def jud_KKT(data,a,b,i,C):\n",
    "    y_all = data[:,-1]\n",
    "    y_hat=np.dot(np.dot(np.multiply(a,y_all).T,data[:,0:-1]),data[i,0:-1].T)+b\n",
    "    temp = y_all[i]*y_hat\n",
    "    ai = a[i]\n",
    "    if (temp==1) & ((ai>0)&(ai<C)) or (temp<1) &(ai==0) or (temp>1)&(ai==C):\n",
    "        return True\n",
    "    else:\n",
    "        return False"
   ]
  },
  {
   "cell_type": "code",
   "execution_count": 166,
   "metadata": {
    "tags": []
   },
   "outputs": [
    {
     "output_type": "stream",
     "name": "stdout",
     "text": [
      "75\n",
      "40830\n",
      "11769\n",
      "13447\n",
      "13447\n",
      "13447\n",
      "13447\n",
      "13447\n",
      "13447\n",
      "13447\n",
      "13447\n",
      "13447\n",
      "13447\n",
      "13447\n",
      "13447\n",
      "13447\n",
      "13447\n",
      "13447\n",
      "13447\n",
      "13447\n",
      "13447\n",
      "13447\n",
      "13447\n",
      "13447\n",
      "13447\n",
      "13447\n",
      "13447\n",
      "13447\n",
      "13447\n",
      "13447\n",
      "13447\n",
      "13447\n",
      "13447\n",
      "13447\n",
      "13447\n",
      "13447\n",
      "13447\n",
      "13447\n",
      "13447\n",
      "13447\n",
      "13447\n",
      "13447\n",
      "13447\n",
      "13447\n",
      "13447\n",
      "13447\n",
      "13447\n",
      "13447\n",
      "13447\n",
      "13447\n",
      "13447\n",
      "13447\n",
      "13447\n",
      "13447\n",
      "13447\n",
      "13447\n",
      "13447\n",
      "13447\n",
      "13447\n",
      "13447\n",
      "13447\n",
      "13447\n",
      "13447\n",
      "13447\n",
      "13447\n",
      "13447\n",
      "13447\n",
      "13447\n",
      "13447\n",
      "13447\n",
      "13447\n",
      "13447\n",
      "13447\n",
      "13447\n",
      "13447\n",
      "13447\n",
      "13447\n",
      "13447\n",
      "13447\n",
      "13447\n",
      "13447\n",
      "13447\n",
      "13447\n",
      "13447\n",
      "13447\n",
      "13447\n",
      "13447\n",
      "13447\n",
      "13447\n",
      "13447\n",
      "13447\n",
      "13447\n",
      "13447\n",
      "13447\n",
      "13447\n",
      "13447\n",
      "13447\n",
      "13447\n",
      "13447\n",
      "13447\n",
      "13447\n",
      "totally cost 0.69 S!\n"
     ]
    }
   ],
   "source": [
    "start_time = time.time()\n",
    "def cal_E(data_set,a,i,b):\n",
    "    y = data_set[:,-1]\n",
    "    y_hat = np.dot(np.dot(np.multiply(a,y).T,bd[:,0:-1]),bd[i,0:-1].T)+b\n",
    "    \n",
    "    return (y_hat-y[i])[0,0]\n",
    "bd = np.mat(bank_data_noDuration)\n",
    "a = np.mat(np.zeros((bd.shape[0],1)))\n",
    "b = 0\n",
    "max_iteration = 100\n",
    "iter_index = 0\n",
    "C=0.6\n",
    "def select_i(data,C,a,b):\n",
    "    y_all = data[:,-1]\n",
    "    # in_0_C = a[(a<C)&(a>0)]\n",
    "    # eq_C = a[a==C]\n",
    "    # eq_0 = a[a==0]\n",
    "    c1 = np.argwhere(a==0)[:,1]\n",
    "    c2 = np.argwhere((a>0)&(a<C))[:,1]\n",
    "    c3 = np.argwhere(a==C)[:,1]\n",
    "    for i in c2:\n",
    "        y_hat=np.dot(np.dot(np.multiply(a,y_all).T,data[:,0:-1]),data[i,0:-1].T)+b\n",
    "        if abs(y_all[i]*y_hat-1)>1e-3:\n",
    "            return c2[i]\n",
    "    for i in c1:\n",
    "        y_hat=np.dot(np.dot(np.multiply(a,y_all).T,data[:,0:-1]),data[i,0:-1].T)+b\n",
    "        if y_all[i]*y_hat<1:\n",
    "            return c1[i]\n",
    "    for i in c3:\n",
    "        y_hat=np.dot(np.dot(np.multiply(a,y_all).T,data[:,0:-1]),data[i,0:-1].T)+b\n",
    "        if y_all[i]*y_hat>1:\n",
    "            return c3[i]\n",
    "    \n",
    "    return -1\n",
    "\n",
    "\n",
    "def select_j(data,a,i,b):\n",
    "    y = data[:,-1]\n",
    "    w = np.dot(np.multiply(a,y).T,data[:,0:-1]).T\n",
    "    all_E = np.dot(w.T,bd[:,0:-1].T)-y.T\n",
    "    return np.argmax(np.abs(all_E-cal_E(bd,a,i,b)))\n",
    "def bound(uc,L,H):\n",
    "    if uc>H:\n",
    "        return H\n",
    "    elif uc<L:\n",
    "        return L\n",
    "    else:\n",
    "        return uc\n",
    "\n",
    "label = bd[:,-1]\n",
    "while iter_index <= max_iteration:\n",
    "    iter_index+=1\n",
    "    index_i = select_i(bd,C,a,b)\n",
    "    if index_i == -1:\n",
    "        print(\"finished!\")\n",
    "    else :\n",
    "        for kk in range(0,bd.shape[0]):\n",
    "            #i = index_i\n",
    "            i = kk\n",
    "            j = select_j(bd,a,i,b)\n",
    "            print(j)\n",
    "            ai = a[i,0]\n",
    "            aj = a[j,0]\n",
    "            yi = label[i,0]\n",
    "            yj = label[i,0]\n",
    "            Kii = K_linear(bd[i,0:-1],bd[i,0:-1])\n",
    "            Kij = K_linear(bd[i,0:-1],bd[j,0:-1])\n",
    "            Kjj = K_linear(bd[j,0:-1],bd[j,0:-1])\n",
    "            H = 0\n",
    "            L = 0\n",
    "            if label[i]!=label[j]:\n",
    "                L=max(0,aj-ai)\n",
    "                H=min(C,C+aj-ai)\n",
    "            else:\n",
    "                L=max(0,ai-aj-C)\n",
    "                H=min(C,ai-aj)\n",
    "            Ei = cal_E(bd,a,i,b)\n",
    "            Ej = cal_E(bd,a,j,b)\n",
    "            eta = K_linear(bd[i,0:-1],bd[i,0:-1])+K_linear(bd[j,0:-1],bd[j,0:-1])-2*K_linear(bd[i,0:-1],bd[j,0:-1])\n",
    "            aj_new_uc = (aj+label[j]*(Ei-Ej)/eta)[0,0]\n",
    "            aj_new = bound(aj_new_uc,L,H)\n",
    "            ai_new = ai+yi*yj*(aj-aj_new)\n",
    "            b1_new = -Ei-yi*Kii*(ai_new-ai)-yj*Kij*(aj_new-aj)+b\n",
    "            b2_new = -Ej-yi*Kii*(ai_new-ai)-yj*Kjj*(aj_new-aj)+b\n",
    "            b_new = (b1_new+b2_new)/2\n",
    "            b = b_new\n",
    "            a[i] = ai_new\n",
    "            a[j] = aj_new\n",
    "\n",
    "\n",
    "end_time = time.time()\n",
    "print(\"totally cost {:.2f} S!\".format(end_time-start_time))  \n",
    "\n",
    "\n"
   ]
  },
  {
   "cell_type": "code",
   "execution_count": 79,
   "metadata": {},
   "outputs": [],
   "source": [
    "def get_ai_list(data,a,b,C):\n",
    "    list_a = []\n",
    "    y_all = data[:,-1]\n",
    "    c1 = np.argwhere(a==0)[:,0]\n",
    "    c2 = np.argwhere((a>0)&(a<C))[:,0]\n",
    "    c3 = np.argwhere(a==C)[:,0]\n",
    "    for i in c2:\n",
    "        y_hat=np.dot(np.dot(np.multiply(a,y_all).T,data[:,0:-1]),data[i,0:-1].T)+b\n",
    "        if abs(y_all[i,0]*y_hat[0,0]-1)>1e-3:\n",
    "            list_a.append(i)\n",
    "    for i in c1:\n",
    "        y_hat=np.dot(np.dot(np.multiply(a,y_all).T,data[:,0:-1]),data[i,0:-1].T)+b\n",
    "        if y_all[i,0]*y_hat[0,0]<1-1e-3:\n",
    "            list_a.append(i)\n",
    "    for i in c3:\n",
    "        y_hat=np.dot(np.dot(np.multiply(a,y_all).T,data[:,0:-1]),data[i,0:-1].T)+b\n",
    "        if y_all[i,0]*y_hat[0,0]>1+1e-3:\n",
    "            list_a.append(i)\n",
    "    \n",
    "    return list_a"
   ]
  },
  {
   "cell_type": "code",
   "execution_count": null,
   "metadata": {},
   "outputs": [],
   "source": []
  },
  {
   "cell_type": "code",
   "execution_count": 27,
   "metadata": {},
   "outputs": [
    {
     "output_type": "stream",
     "name": "stdout",
     "text": [
      "(4640, 10)\n(36548, 10)\n(4000, 10)\n[[ 1. 12.  1.  1.  2.  1.  1.  1.  3.  1.]]\n"
     ]
    }
   ],
   "source": [
    "bd_all = np.mat(bank_data_noDuration)\n",
    "index = []\n",
    "bd = bd_all[0:4000,[0,1,2,4,5,6,7,8,9,-1]].copy()\n",
    "new_bd = bd_all[:,[0,1,2,4,5,6,7,8,9,-1]].copy()\n",
    "bd_yes = new_bd[np.argwhere(new_bd[:,-1]==1)[:,0],:]\n",
    "bd_no = new_bd[np.argwhere(new_bd[:,-1]==-1)[:,0],:]\n",
    "print(bd_yes.shape)\n",
    "print(bd_no.shape)\n",
    "blance_data = np.mat(np.zeros((4000,10),dtype=np.float32))\n",
    "for i in range(0,4000):\n",
    "    if i%2==0:\n",
    "        blance_data[i,:] = bd_yes[i,:]\n",
    "    else:\n",
    "        blance_data[i,:] = bd_no[i,:]\n",
    "print(blance_data.shape) \n",
    "#cc = get_ai_list(blance_data,a,b,C)\n",
    "print(blance_data[68,:])"
   ]
  },
  {
   "cell_type": "code",
   "execution_count": 28,
   "metadata": {},
   "outputs": [
    {
     "output_type": "stream",
     "name": "stdout",
     "text": [
      "1\n1\n"
     ]
    }
   ],
   "source": [
    "b = 1\n",
    "a = b\n",
    "print(a)\n",
    "b = 2\n",
    "print(a)"
   ]
  },
  {
   "cell_type": "code",
   "execution_count": 24,
   "metadata": {},
   "outputs": [
    {
     "output_type": "stream",
     "name": "stderr",
     "text": [
      "  0%|          | 0/10 [00:00<?, ?it/s]\n"
     ]
    },
    {
     "output_type": "error",
     "ename": "NameError",
     "evalue": "name 'get_ai_list' is not defined",
     "traceback": [
      "\u001b[1;31m---------------------------------------------------------------------------\u001b[0m",
      "\u001b[1;31mNameError\u001b[0m                                 Traceback (most recent call last)",
      "\u001b[1;32m<ipython-input-24-67b0a3589a08>\u001b[0m in \u001b[0;36m<module>\u001b[1;34m()\u001b[0m\n\u001b[0;32m     61\u001b[0m \u001b[1;32mfor\u001b[0m \u001b[0miter_process\u001b[0m \u001b[1;32min\u001b[0m \u001b[0mtrange\u001b[0m\u001b[1;33m(\u001b[0m\u001b[0mmax_iteration\u001b[0m\u001b[1;33m)\u001b[0m\u001b[1;33m:\u001b[0m\u001b[1;33m\u001b[0m\u001b[0m\n\u001b[0;32m     62\u001b[0m     \u001b[0mstore_old_ailist\u001b[0m \u001b[1;33m=\u001b[0m \u001b[0mlist_ai\u001b[0m\u001b[1;33m.\u001b[0m\u001b[0mcopy\u001b[0m\u001b[1;33m(\u001b[0m\u001b[1;33m)\u001b[0m\u001b[1;33m\u001b[0m\u001b[0m\n\u001b[1;32m---> 63\u001b[1;33m     \u001b[0mlist_ai\u001b[0m \u001b[1;33m=\u001b[0m \u001b[0mget_ai_list\u001b[0m\u001b[1;33m(\u001b[0m\u001b[0mbd\u001b[0m\u001b[1;33m,\u001b[0m\u001b[0ma\u001b[0m\u001b[1;33m,\u001b[0m\u001b[0mb\u001b[0m\u001b[1;33m,\u001b[0m\u001b[0mC\u001b[0m\u001b[1;33m)\u001b[0m\u001b[1;33m\u001b[0m\u001b[0m\n\u001b[0m\u001b[0;32m     64\u001b[0m     \u001b[1;32mif\u001b[0m \u001b[0mlen\u001b[0m\u001b[1;33m(\u001b[0m\u001b[0mlist_ai\u001b[0m\u001b[1;33m)\u001b[0m \u001b[1;33m==\u001b[0m \u001b[1;36m0\u001b[0m\u001b[1;33m:\u001b[0m\u001b[1;33m\u001b[0m\u001b[0m\n\u001b[0;32m     65\u001b[0m         \u001b[0mprint\u001b[0m\u001b[1;33m(\u001b[0m\u001b[1;34m\"finished!\"\u001b[0m\u001b[1;33m)\u001b[0m\u001b[1;33m\u001b[0m\u001b[0m\n",
      "\u001b[1;31mNameError\u001b[0m: name 'get_ai_list' is not defined"
     ]
    }
   ],
   "source": [
    "start_time = time.time()\n",
    "def cal_E(data_set,a,i,b):\n",
    "    y = data_set[:,-1]\n",
    "    y_hat = np.dot(np.dot(np.multiply(a,y).T,bd[:,0:-1]),bd[i,0:-1].T)+b\n",
    "    return (y_hat-y[i])[0,0]\n",
    "a = np.mat(np.zeros((bd.shape[0],1)))\n",
    "b = 0\n",
    "max_iteration = 30\n",
    "iter_index = 0\n",
    "C=0.4\n",
    "def select_i(data,C,a,b):\n",
    "    y_all = data[:,-1]\n",
    "    # in_0_C = a[(a<C)&(a>0)]\n",
    "    # eq_C = a[a==C]\n",
    "    # eq_0 = a[a==0]\n",
    "    c1 = np.argwhere(a==0)[:,1]\n",
    "    c2 = np.argwhere((a>0)&(a<C))[:,1]\n",
    "    c3 = np.argwhere(a==C)[:,1]\n",
    "    for i in c2:\n",
    "        y_hat=np.dot(np.dot(np.multiply(a,y_all).T,data[:,0:-1]),data[i,0:-1].T)+b\n",
    "        if abs(y_all[i]*y_hat-1)>1e-3:\n",
    "            return c2[i]\n",
    "    for i in c1:\n",
    "        y_hat=np.dot(np.dot(np.multiply(a,y_all).T,data[:,0:-1]),data[i,0:-1].T)+b\n",
    "        if y_all[i]*y_hat<1:\n",
    "            return c1[i]\n",
    "    for i in c3:\n",
    "        y_hat=np.dot(np.dot(np.multiply(a,y_all).T,data[:,0:-1]),data[i,0:-1].T)+b\n",
    "        if y_all[i]*y_hat>1:\n",
    "            return c3[i]\n",
    "    \n",
    "    return -1\n",
    "\n",
    "\n",
    "\n",
    "\n",
    "def select_j(data,a,i,b):\n",
    "    y = data[:,-1]\n",
    "    w = np.dot(np.multiply(a,y).T,data[:,0:-1])\n",
    "    all_E = np.dot(w,bd[:,0:-1].T)-y.T+b\n",
    "    return np.argmax(np.abs(all_E-cal_E(bd,a,i,b)))\n",
    "\n",
    "def bound(uc,L,H):\n",
    "    if uc>H:\n",
    "        return H\n",
    "    elif uc<L:\n",
    "        return L\n",
    "    else:\n",
    "        return uc\n",
    "def compare_list(ls1,ls2):\n",
    "    ls1 = sorted(ls1)\n",
    "    ls2 = sorted(ls2)\n",
    "    return operator.eq(ls1,ls2)\n",
    "label = bd[:,-1]\n",
    "max_iteration = 10\n",
    "store_old_ailist = []\n",
    "list_ai = []\n",
    "kc = 0\n",
    "bc = 0\n",
    "isAll = True\n",
    "for iter_process in trange(max_iteration):\n",
    "    store_old_ailist = list_ai.copy()\n",
    "    list_ai = get_ai_list(bd,a,b,C)\n",
    "    if len(list_ai) == 0:\n",
    "        print(\"finished!\")\n",
    "        break\n",
    "    else :\n",
    "        #全集遍历\n",
    "        tt = True\n",
    "        if isAll:\n",
    "            \n",
    "            for kk in range(0,bd.shape[0]):\n",
    "                #i = index_i\n",
    "                if jud_KKT(bd,a,b,kk,C):\n",
    "                    i = kk\n",
    "                    j = select_j(bd,a,i,b)\n",
    "                    ai = a[i,0]\n",
    "                    aj = a[j,0]\n",
    "                    yi = label[i,0]\n",
    "                    yj = label[j,0]\n",
    "                    Kii = K_linear(bd[i,0:-1],bd[i,0:-1])\n",
    "                    Kij = K_linear(bd[i,0:-1],bd[j,0:-1])\n",
    "                    Kjj = K_linear(bd[j,0:-1],bd[j,0:-1])\n",
    "                    H = 0\n",
    "                    L = 0\n",
    "                    if label[i]!=label[j]:\n",
    "                        L=max(0,aj-ai)\n",
    "                        H=min(C,C+aj-ai)\n",
    "                    else:\n",
    "                        L=max(0,ai-aj-C)\n",
    "                        H=min(C,ai-aj)\n",
    "                    Ei = cal_E(bd,a,i,b)\n",
    "                    Ej = cal_E(bd,a,j,b)\n",
    "                    eta = K_linear(bd[i,0:-1],bd[i,0:-1])+K_linear(bd[j,0:-1],bd[j,0:-1])-2*K_linear(bd[i,0:-1],bd[j,0:-1])\n",
    "                    if eta==0:\n",
    "                        print(\"eta=0\")\n",
    "                        print(i,j)\n",
    "                        print(select_j(bd,a,i,b))\n",
    "                        kc = a.copy()\n",
    "                        bc = b.copy()\n",
    "                    aj_new_uc = (aj+label[j]*(Ei-Ej)/eta)[0,0]\n",
    "                    aj_new = bound(aj_new_uc,L,H)\n",
    "                    ai_new = ai+yi*yj*(aj-aj_new)\n",
    "                    b1_new = -Ei-yi*Kii*(ai_new-ai)-yj*Kij*(aj_new-aj)+b\n",
    "                    b2_new = -Ej-yi*Kij*(ai_new-ai)-yj*Kjj*(aj_new-aj)+b\n",
    "                    b_new = (b1_new+b2_new)/2\n",
    "                    b = b_new\n",
    "                    a[i] = ai_new\n",
    "                    a[j] = aj_new\n",
    "                    isAll = False\n",
    "                    if tt:\n",
    "                        print(eta,b1_new,b2_new)\n",
    "                        tt = False\n",
    "\n",
    "            \n",
    "        else :\n",
    "            arg_bound = np.argwhere((a>0)&(a<C))[:,0]\n",
    "            for kk in arg_bound:\n",
    "                if jud_KKT(bd,a,b,kk,C):\n",
    "                    i = kk\n",
    "                    j = select_j(bd,a,i,b)\n",
    "                    ai = a[i,0]\n",
    "                    aj = a[j,0]\n",
    "                    yi = label[i,0]\n",
    "                    yj = label[j,0]\n",
    "                    Kii = K_linear(bd[i,0:-1],bd[i,0:-1])\n",
    "                    Kij = K_linear(bd[i,0:-1],bd[j,0:-1])\n",
    "                    Kjj = K_linear(bd[j,0:-1],bd[j,0:-1])\n",
    "                    H = 0\n",
    "                    L = 0\n",
    "                    if label[i]!=label[j]:\n",
    "                        L=max(0,aj-ai)\n",
    "                        H=min(C,C+aj-ai)\n",
    "                    else:\n",
    "                        L=max(0,ai-aj-C)\n",
    "                        H=min(C,ai-aj)\n",
    "                    Ei = cal_E(bd,a,i,b)\n",
    "                    Ej = cal_E(bd,a,j,b)\n",
    "                    eta = K_linear(bd[i,0:-1],bd[i,0:-1])+K_linear(bd[j,0:-1],bd[j,0:-1])-2*K_linear(bd[i,0:-1],bd[j,0:-1])\n",
    "                    if eta==0:\n",
    "                        print(\"eta=0\")\n",
    "                        print(i,j)\n",
    "                        print(select_j(bd,a,i,b))\n",
    "                        kc = a.copy()\n",
    "                        bc = b.copy()\n",
    "                    aj_new_uc = (aj+label[j]*(Ei-Ej)/eta)[0,0]\n",
    "                    aj_new = bound(aj_new_uc,L,H)\n",
    "                    ai_new = ai+yi*yj*(aj-aj_new)\n",
    "                    b1_new = -Ei-yi*Kii*(ai_new-ai)-yj*Kij*(aj_new-aj)+b\n",
    "                    b2_new = -Ej-yi*Kij*(ai_new-ai)-yj*Kjj*(aj_new-aj)+b\n",
    "                    b_new = (b1_new+b2_new)/2\n",
    "                    b = b_new\n",
    "                    a[i] = ai_new\n",
    "                    a[j] = aj_new\n",
    "                    isAll = True\n",
    "                    if tt:\n",
    "                        print(eta,b1_new,b2_new)\n",
    "                        tt = False\n",
    "\n",
    "\n",
    "           \n",
    "            \n",
    "\n",
    "end_time = time.time()\n",
    "print(\"totally cost {:.2f} S!\".format(end_time-start_time))  "
   ]
  },
  {
   "cell_type": "code",
   "execution_count": 13,
   "metadata": {
    "tags": []
   },
   "outputs": [
    {
     "output_type": "stream",
     "name": "stdout",
     "text": [
      "(340, 2)\n0.10875\n(3889, 2)\n"
     ]
    }
   ],
   "source": [
    "#evaluate model\n",
    "test = bd[0:40000,:]\n",
    "def eva_model(a,b,test_set,train_set):\n",
    "    y = train_set[:,-1]\n",
    "    test_label = test_set[:,-1].T\n",
    "    w = np.dot(np.multiply(a,y).T,train_set[:,0:-1])\n",
    "    yy = np.dot(w,test_set[:,0:-1].T)+b\n",
    "    yy[np.where(yy>=0)] = 1\n",
    "    yy[np.where(yy<0)] = -1\n",
    "    print(np.argwhere(yy==-1).shape)\n",
    "    acc = np.sum(np.abs(yy+test_label),axis=1)[0,0]\n",
    "    return acc/test_set.shape[0]/2\n",
    "print(eva_model(a,b,test,bd))\n",
    "print(np.argwhere(test[:,-1]==-1).shape)\n",
    "#print(len(get_ai_list(bd,a,b,C)))"
   ]
  },
  {
   "cell_type": "code",
   "execution_count": 83,
   "metadata": {},
   "outputs": [
    {
     "output_type": "stream",
     "name": "stdout",
     "text": [
      "(4000, 4000)\n(4000, 9)\n(4000,)\n"
     ]
    }
   ],
   "source": [
    "bd = blance_data\n",
    "x1 = bd[1,0:-1]\n",
    "x2 = bd[2,0:-1]\n",
    "\n",
    "y = bd[:,-1]\n",
    "w = np.dot(np.multiply(a,y).T,bd[:,0:-1])\n",
    "ay = np.multiply(a,y)\n",
    "y_hat = np.dot(np.dot(np.multiply(a,y).T,bd[:,0:-1]),bd[1,0:-1].T)+b\n",
    "#w1 = ay*bd[:,0:-1]\n",
    "print(ay.shape)\n",
    "print(w.shape)\n",
    "print(y.shape)"
   ]
  },
  {
   "cell_type": "code",
   "execution_count": 49,
   "metadata": {},
   "outputs": [
    {
     "output_type": "stream",
     "name": "stdout",
     "text": [
      "True\n"
     ]
    }
   ],
   "source": [
    "print(1==1.0)"
   ]
  }
 ]
}